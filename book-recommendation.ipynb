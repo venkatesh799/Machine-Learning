{
 "cells": [
  {
   "cell_type": "code",
   "execution_count": 1,
   "id": "6ec74188",
   "metadata": {
    "_cell_guid": "b1076dfc-b9ad-4769-8c92-a6c4dae69d19",
    "_uuid": "8f2839f25d086af736a60e9eeb907d3b93b6e0e5",
    "execution": {
     "iopub.execute_input": "2023-03-16T16:38:25.133649Z",
     "iopub.status.busy": "2023-03-16T16:38:25.133220Z",
     "iopub.status.idle": "2023-03-16T16:38:25.152528Z",
     "shell.execute_reply": "2023-03-16T16:38:25.151395Z"
    },
    "papermill": {
     "duration": 0.034465,
     "end_time": "2023-03-16T16:38:25.155858",
     "exception": false,
     "start_time": "2023-03-16T16:38:25.121393",
     "status": "completed"
    },
    "tags": []
   },
   "outputs": [
    {
     "name": "stdout",
     "output_type": "stream",
     "text": [
      "/kaggle/input/book-recommendation-dataset/final_ratings.csv\n",
      "/kaggle/input/amazon-books-reviews/books_data.csv\n",
      "/kaggle/input/amazon-books-reviews/Books_rating.csv\n"
     ]
    }
   ],
   "source": [
    "# This Python 3 environment comes with many helpful analytics libraries installed\n",
    "# It is defined by the kaggle/python Docker image: https://github.com/kaggle/docker-python\n",
    "# For example, here's several helpful packages to load\n",
    "\n",
    "import numpy as np # linear algebra\n",
    "import pandas as pd # data processing, CSV file I/O (e.g. pd.read_csv)\n",
    "\n",
    "# Input data files are available in the read-only \"../input/\" directory\n",
    "# For example, running this (by clicking run or pressing Shift+Enter) will list all files under the input directory\n",
    "\n",
    "import os\n",
    "for dirname, _, filenames in os.walk('/kaggle/input'):\n",
    "    for filename in filenames:\n",
    "        print(os.path.join(dirname, filename))\n",
    "\n",
    "# You can write up to 20GB to the current directory (/kaggle/working/) that gets preserved as output when you create a version using \"Save & Run All\" \n",
    "# You can also write temporary files to /kaggle/temp/, but they won't be saved outside of the current session"
   ]
  },
  {
   "cell_type": "markdown",
   "id": "47d1ef86",
   "metadata": {
    "papermill": {
     "duration": 0.009761,
     "end_time": "2023-03-16T16:38:25.176318",
     "exception": false,
     "start_time": "2023-03-16T16:38:25.166557",
     "status": "completed"
    },
    "tags": []
   },
   "source": [
    "## Loading the Dataset"
   ]
  },
  {
   "cell_type": "code",
   "execution_count": 2,
   "id": "0cd1646d",
   "metadata": {
    "execution": {
     "iopub.execute_input": "2023-03-16T16:38:25.197578Z",
     "iopub.status.busy": "2023-03-16T16:38:25.196270Z",
     "iopub.status.idle": "2023-03-16T16:39:28.194371Z",
     "shell.execute_reply": "2023-03-16T16:39:28.193360Z"
    },
    "papermill": {
     "duration": 63.011344,
     "end_time": "2023-03-16T16:39:28.196997",
     "exception": false,
     "start_time": "2023-03-16T16:38:25.185653",
     "status": "completed"
    },
    "tags": []
   },
   "outputs": [],
   "source": [
    "books = pd.read_csv('/kaggle/input/amazon-books-reviews/books_data.csv')\n",
    "ratings = pd.read_csv('/kaggle/input/amazon-books-reviews/Books_rating.csv')"
   ]
  },
  {
   "cell_type": "code",
   "execution_count": 3,
   "id": "29bdc4b2",
   "metadata": {
    "execution": {
     "iopub.execute_input": "2023-03-16T16:39:28.218683Z",
     "iopub.status.busy": "2023-03-16T16:39:28.216913Z",
     "iopub.status.idle": "2023-03-16T16:39:28.225143Z",
     "shell.execute_reply": "2023-03-16T16:39:28.224044Z"
    },
    "papermill": {
     "duration": 0.02174,
     "end_time": "2023-03-16T16:39:28.228194",
     "exception": false,
     "start_time": "2023-03-16T16:39:28.206454",
     "status": "completed"
    },
    "tags": []
   },
   "outputs": [
    {
     "data": {
      "text/plain": [
       "((212404, 10), (3000000, 10))"
      ]
     },
     "execution_count": 3,
     "metadata": {},
     "output_type": "execute_result"
    }
   ],
   "source": [
    "books.shape,ratings.shape"
   ]
  },
  {
   "cell_type": "code",
   "execution_count": 4,
   "id": "e910b275",
   "metadata": {
    "execution": {
     "iopub.execute_input": "2023-03-16T16:39:28.247366Z",
     "iopub.status.busy": "2023-03-16T16:39:28.247055Z",
     "iopub.status.idle": "2023-03-16T16:39:28.267652Z",
     "shell.execute_reply": "2023-03-16T16:39:28.266309Z"
    },
    "papermill": {
     "duration": 0.032546,
     "end_time": "2023-03-16T16:39:28.270111",
     "exception": false,
     "start_time": "2023-03-16T16:39:28.237565",
     "status": "completed"
    },
    "tags": []
   },
   "outputs": [
    {
     "data": {
      "text/html": [
       "<div>\n",
       "<style scoped>\n",
       "    .dataframe tbody tr th:only-of-type {\n",
       "        vertical-align: middle;\n",
       "    }\n",
       "\n",
       "    .dataframe tbody tr th {\n",
       "        vertical-align: top;\n",
       "    }\n",
       "\n",
       "    .dataframe thead th {\n",
       "        text-align: right;\n",
       "    }\n",
       "</style>\n",
       "<table border=\"1\" class=\"dataframe\">\n",
       "  <thead>\n",
       "    <tr style=\"text-align: right;\">\n",
       "      <th></th>\n",
       "      <th>Title</th>\n",
       "      <th>description</th>\n",
       "      <th>authors</th>\n",
       "      <th>image</th>\n",
       "      <th>previewLink</th>\n",
       "      <th>publisher</th>\n",
       "      <th>publishedDate</th>\n",
       "      <th>infoLink</th>\n",
       "      <th>categories</th>\n",
       "      <th>ratingsCount</th>\n",
       "    </tr>\n",
       "  </thead>\n",
       "  <tbody>\n",
       "    <tr>\n",
       "      <th>0</th>\n",
       "      <td>Its Only Art If Its Well Hung!</td>\n",
       "      <td>NaN</td>\n",
       "      <td>['Julie Strain']</td>\n",
       "      <td>http://books.google.com/books/content?id=DykPA...</td>\n",
       "      <td>http://books.google.nl/books?id=DykPAAAACAAJ&amp;d...</td>\n",
       "      <td>NaN</td>\n",
       "      <td>1996</td>\n",
       "      <td>http://books.google.nl/books?id=DykPAAAACAAJ&amp;d...</td>\n",
       "      <td>['Comics &amp; Graphic Novels']</td>\n",
       "      <td>NaN</td>\n",
       "    </tr>\n",
       "    <tr>\n",
       "      <th>1</th>\n",
       "      <td>Dr. Seuss: American Icon</td>\n",
       "      <td>Philip Nel takes a fascinating look into the k...</td>\n",
       "      <td>['Philip Nel']</td>\n",
       "      <td>http://books.google.com/books/content?id=IjvHQ...</td>\n",
       "      <td>http://books.google.nl/books?id=IjvHQsCn_pgC&amp;p...</td>\n",
       "      <td>A&amp;C Black</td>\n",
       "      <td>2005-01-01</td>\n",
       "      <td>http://books.google.nl/books?id=IjvHQsCn_pgC&amp;d...</td>\n",
       "      <td>['Biography &amp; Autobiography']</td>\n",
       "      <td>NaN</td>\n",
       "    </tr>\n",
       "  </tbody>\n",
       "</table>\n",
       "</div>"
      ],
      "text/plain": [
       "                            Title  \\\n",
       "0  Its Only Art If Its Well Hung!   \n",
       "1        Dr. Seuss: American Icon   \n",
       "\n",
       "                                         description           authors  \\\n",
       "0                                                NaN  ['Julie Strain']   \n",
       "1  Philip Nel takes a fascinating look into the k...    ['Philip Nel']   \n",
       "\n",
       "                                               image  \\\n",
       "0  http://books.google.com/books/content?id=DykPA...   \n",
       "1  http://books.google.com/books/content?id=IjvHQ...   \n",
       "\n",
       "                                         previewLink  publisher publishedDate  \\\n",
       "0  http://books.google.nl/books?id=DykPAAAACAAJ&d...        NaN          1996   \n",
       "1  http://books.google.nl/books?id=IjvHQsCn_pgC&p...  A&C Black    2005-01-01   \n",
       "\n",
       "                                            infoLink  \\\n",
       "0  http://books.google.nl/books?id=DykPAAAACAAJ&d...   \n",
       "1  http://books.google.nl/books?id=IjvHQsCn_pgC&d...   \n",
       "\n",
       "                      categories  ratingsCount  \n",
       "0    ['Comics & Graphic Novels']           NaN  \n",
       "1  ['Biography & Autobiography']           NaN  "
      ]
     },
     "execution_count": 4,
     "metadata": {},
     "output_type": "execute_result"
    }
   ],
   "source": [
    "books.head(2)"
   ]
  },
  {
   "cell_type": "code",
   "execution_count": 5,
   "id": "9775c131",
   "metadata": {
    "execution": {
     "iopub.execute_input": "2023-03-16T16:39:28.288969Z",
     "iopub.status.busy": "2023-03-16T16:39:28.288709Z",
     "iopub.status.idle": "2023-03-16T16:39:28.303572Z",
     "shell.execute_reply": "2023-03-16T16:39:28.302401Z"
    },
    "papermill": {
     "duration": 0.026778,
     "end_time": "2023-03-16T16:39:28.305849",
     "exception": false,
     "start_time": "2023-03-16T16:39:28.279071",
     "status": "completed"
    },
    "tags": []
   },
   "outputs": [
    {
     "data": {
      "text/html": [
       "<div>\n",
       "<style scoped>\n",
       "    .dataframe tbody tr th:only-of-type {\n",
       "        vertical-align: middle;\n",
       "    }\n",
       "\n",
       "    .dataframe tbody tr th {\n",
       "        vertical-align: top;\n",
       "    }\n",
       "\n",
       "    .dataframe thead th {\n",
       "        text-align: right;\n",
       "    }\n",
       "</style>\n",
       "<table border=\"1\" class=\"dataframe\">\n",
       "  <thead>\n",
       "    <tr style=\"text-align: right;\">\n",
       "      <th></th>\n",
       "      <th>Id</th>\n",
       "      <th>Title</th>\n",
       "      <th>Price</th>\n",
       "      <th>User_id</th>\n",
       "      <th>profileName</th>\n",
       "      <th>review/helpfulness</th>\n",
       "      <th>review/score</th>\n",
       "      <th>review/time</th>\n",
       "      <th>review/summary</th>\n",
       "      <th>review/text</th>\n",
       "    </tr>\n",
       "  </thead>\n",
       "  <tbody>\n",
       "    <tr>\n",
       "      <th>0</th>\n",
       "      <td>1882931173</td>\n",
       "      <td>Its Only Art If Its Well Hung!</td>\n",
       "      <td>NaN</td>\n",
       "      <td>AVCGYZL8FQQTD</td>\n",
       "      <td>Jim of Oz \"jim-of-oz\"</td>\n",
       "      <td>7/7</td>\n",
       "      <td>4.0</td>\n",
       "      <td>940636800</td>\n",
       "      <td>Nice collection of Julie Strain images</td>\n",
       "      <td>This is only for Julie Strain fans. It's a col...</td>\n",
       "    </tr>\n",
       "    <tr>\n",
       "      <th>1</th>\n",
       "      <td>0826414346</td>\n",
       "      <td>Dr. Seuss: American Icon</td>\n",
       "      <td>NaN</td>\n",
       "      <td>A30TK6U7DNS82R</td>\n",
       "      <td>Kevin Killian</td>\n",
       "      <td>10/10</td>\n",
       "      <td>5.0</td>\n",
       "      <td>1095724800</td>\n",
       "      <td>Really Enjoyed It</td>\n",
       "      <td>I don't care much for Dr. Seuss but after read...</td>\n",
       "    </tr>\n",
       "  </tbody>\n",
       "</table>\n",
       "</div>"
      ],
      "text/plain": [
       "           Id                           Title  Price         User_id  \\\n",
       "0  1882931173  Its Only Art If Its Well Hung!    NaN   AVCGYZL8FQQTD   \n",
       "1  0826414346        Dr. Seuss: American Icon    NaN  A30TK6U7DNS82R   \n",
       "\n",
       "             profileName review/helpfulness  review/score  review/time  \\\n",
       "0  Jim of Oz \"jim-of-oz\"                7/7           4.0    940636800   \n",
       "1          Kevin Killian              10/10           5.0   1095724800   \n",
       "\n",
       "                           review/summary  \\\n",
       "0  Nice collection of Julie Strain images   \n",
       "1                       Really Enjoyed It   \n",
       "\n",
       "                                         review/text  \n",
       "0  This is only for Julie Strain fans. It's a col...  \n",
       "1  I don't care much for Dr. Seuss but after read...  "
      ]
     },
     "execution_count": 5,
     "metadata": {},
     "output_type": "execute_result"
    }
   ],
   "source": [
    "ratings.head(2)"
   ]
  },
  {
   "cell_type": "markdown",
   "id": "3cae5c42",
   "metadata": {
    "papermill": {
     "duration": 0.009146,
     "end_time": "2023-03-16T16:39:28.324591",
     "exception": false,
     "start_time": "2023-03-16T16:39:28.315445",
     "status": "completed"
    },
    "tags": []
   },
   "source": [
    "## Collaborative Filtering"
   ]
  },
  {
   "cell_type": "code",
   "execution_count": 6,
   "id": "1461d610",
   "metadata": {
    "execution": {
     "iopub.execute_input": "2023-03-16T16:39:28.344488Z",
     "iopub.status.busy": "2023-03-16T16:39:28.343676Z",
     "iopub.status.idle": "2023-03-16T16:39:28.462130Z",
     "shell.execute_reply": "2023-03-16T16:39:28.460972Z"
    },
    "papermill": {
     "duration": 0.130718,
     "end_time": "2023-03-16T16:39:28.464355",
     "exception": false,
     "start_time": "2023-03-16T16:39:28.333637",
     "status": "completed"
    },
    "tags": []
   },
   "outputs": [],
   "source": [
    "ratings = ratings[['Id','User_id','review/score','Title']]"
   ]
  },
  {
   "cell_type": "code",
   "execution_count": 7,
   "id": "1ceae70f",
   "metadata": {
    "execution": {
     "iopub.execute_input": "2023-03-16T16:39:28.485219Z",
     "iopub.status.busy": "2023-03-16T16:39:28.484901Z",
     "iopub.status.idle": "2023-03-16T16:39:28.491857Z",
     "shell.execute_reply": "2023-03-16T16:39:28.490678Z"
    },
    "papermill": {
     "duration": 0.019836,
     "end_time": "2023-03-16T16:39:28.494110",
     "exception": false,
     "start_time": "2023-03-16T16:39:28.474274",
     "status": "completed"
    },
    "tags": []
   },
   "outputs": [],
   "source": [
    "ratings.rename(columns={'Id':'book_id','User_id':'user_id','review/score':'rating','Title':'title'},inplace=True)"
   ]
  },
  {
   "cell_type": "code",
   "execution_count": 8,
   "id": "5c11d8bb",
   "metadata": {
    "execution": {
     "iopub.execute_input": "2023-03-16T16:39:28.514925Z",
     "iopub.status.busy": "2023-03-16T16:39:28.514055Z",
     "iopub.status.idle": "2023-03-16T16:39:28.527105Z",
     "shell.execute_reply": "2023-03-16T16:39:28.525861Z"
    },
    "papermill": {
     "duration": 0.026923,
     "end_time": "2023-03-16T16:39:28.530343",
     "exception": false,
     "start_time": "2023-03-16T16:39:28.503420",
     "status": "completed"
    },
    "tags": []
   },
   "outputs": [
    {
     "data": {
      "text/html": [
       "<div>\n",
       "<style scoped>\n",
       "    .dataframe tbody tr th:only-of-type {\n",
       "        vertical-align: middle;\n",
       "    }\n",
       "\n",
       "    .dataframe tbody tr th {\n",
       "        vertical-align: top;\n",
       "    }\n",
       "\n",
       "    .dataframe thead th {\n",
       "        text-align: right;\n",
       "    }\n",
       "</style>\n",
       "<table border=\"1\" class=\"dataframe\">\n",
       "  <thead>\n",
       "    <tr style=\"text-align: right;\">\n",
       "      <th></th>\n",
       "      <th>book_id</th>\n",
       "      <th>user_id</th>\n",
       "      <th>rating</th>\n",
       "      <th>title</th>\n",
       "    </tr>\n",
       "  </thead>\n",
       "  <tbody>\n",
       "    <tr>\n",
       "      <th>0</th>\n",
       "      <td>1882931173</td>\n",
       "      <td>AVCGYZL8FQQTD</td>\n",
       "      <td>4.0</td>\n",
       "      <td>Its Only Art If Its Well Hung!</td>\n",
       "    </tr>\n",
       "    <tr>\n",
       "      <th>1</th>\n",
       "      <td>0826414346</td>\n",
       "      <td>A30TK6U7DNS82R</td>\n",
       "      <td>5.0</td>\n",
       "      <td>Dr. Seuss: American Icon</td>\n",
       "    </tr>\n",
       "  </tbody>\n",
       "</table>\n",
       "</div>"
      ],
      "text/plain": [
       "      book_id         user_id  rating                           title\n",
       "0  1882931173   AVCGYZL8FQQTD     4.0  Its Only Art If Its Well Hung!\n",
       "1  0826414346  A30TK6U7DNS82R     5.0        Dr. Seuss: American Icon"
      ]
     },
     "execution_count": 8,
     "metadata": {},
     "output_type": "execute_result"
    }
   ],
   "source": [
    "ratings.head(2)"
   ]
  },
  {
   "cell_type": "markdown",
   "id": "9e3b01ca",
   "metadata": {
    "papermill": {
     "duration": 0.009407,
     "end_time": "2023-03-16T16:39:28.549917",
     "exception": false,
     "start_time": "2023-03-16T16:39:28.540510",
     "status": "completed"
    },
    "tags": []
   },
   "source": [
    "### Calculating the number of ratings in of each book"
   ]
  },
  {
   "cell_type": "code",
   "execution_count": 9,
   "id": "137a4514",
   "metadata": {
    "execution": {
     "iopub.execute_input": "2023-03-16T16:39:28.570382Z",
     "iopub.status.busy": "2023-03-16T16:39:28.570095Z",
     "iopub.status.idle": "2023-03-16T16:39:29.679287Z",
     "shell.execute_reply": "2023-03-16T16:39:29.678195Z"
    },
    "papermill": {
     "duration": 1.12239,
     "end_time": "2023-03-16T16:39:29.682010",
     "exception": false,
     "start_time": "2023-03-16T16:39:28.559620",
     "status": "completed"
    },
    "tags": []
   },
   "outputs": [
    {
     "data": {
      "text/html": [
       "<div>\n",
       "<style scoped>\n",
       "    .dataframe tbody tr th:only-of-type {\n",
       "        vertical-align: middle;\n",
       "    }\n",
       "\n",
       "    .dataframe tbody tr th {\n",
       "        vertical-align: top;\n",
       "    }\n",
       "\n",
       "    .dataframe thead th {\n",
       "        text-align: right;\n",
       "    }\n",
       "</style>\n",
       "<table border=\"1\" class=\"dataframe\">\n",
       "  <thead>\n",
       "    <tr style=\"text-align: right;\">\n",
       "      <th></th>\n",
       "      <th>title</th>\n",
       "      <th>num_rating</th>\n",
       "    </tr>\n",
       "  </thead>\n",
       "  <tbody>\n",
       "    <tr>\n",
       "      <th>0</th>\n",
       "      <td>\" Film technique, \" and, \" Film acting \"</td>\n",
       "      <td>2</td>\n",
       "    </tr>\n",
       "    <tr>\n",
       "      <th>1</th>\n",
       "      <td>\" We'll Always Have Paris\": The Definitive Gui...</td>\n",
       "      <td>2</td>\n",
       "    </tr>\n",
       "    <tr>\n",
       "      <th>2</th>\n",
       "      <td>\"... And Poetry is Born ...\" Russian Classical...</td>\n",
       "      <td>1</td>\n",
       "    </tr>\n",
       "    <tr>\n",
       "      <th>3</th>\n",
       "      <td>\"A Titanic hero\" Thomas Andrews, shipbuilder</td>\n",
       "      <td>8</td>\n",
       "    </tr>\n",
       "    <tr>\n",
       "      <th>4</th>\n",
       "      <td>\"A Truthful Impression of the Country\": Britis...</td>\n",
       "      <td>1</td>\n",
       "    </tr>\n",
       "  </tbody>\n",
       "</table>\n",
       "</div>"
      ],
      "text/plain": [
       "                                               title  num_rating\n",
       "0           \" Film technique, \" and, \" Film acting \"           2\n",
       "1  \" We'll Always Have Paris\": The Definitive Gui...           2\n",
       "2  \"... And Poetry is Born ...\" Russian Classical...           1\n",
       "3       \"A Titanic hero\" Thomas Andrews, shipbuilder           8\n",
       "4  \"A Truthful Impression of the Country\": Britis...           1"
      ]
     },
     "execution_count": 9,
     "metadata": {},
     "output_type": "execute_result"
    }
   ],
   "source": [
    "num_rating_df = ratings.groupby('title').count()['rating'].reset_index()\n",
    "num_rating_df.rename(columns={'rating':'num_rating'},inplace=True)\n",
    "num_rating_df.head()"
   ]
  },
  {
   "cell_type": "code",
   "execution_count": 10,
   "id": "d711c44c",
   "metadata": {
    "execution": {
     "iopub.execute_input": "2023-03-16T16:39:29.707688Z",
     "iopub.status.busy": "2023-03-16T16:39:29.705323Z",
     "iopub.status.idle": "2023-03-16T16:39:29.712317Z",
     "shell.execute_reply": "2023-03-16T16:39:29.711306Z"
    },
    "papermill": {
     "duration": 0.021595,
     "end_time": "2023-03-16T16:39:29.714549",
     "exception": false,
     "start_time": "2023-03-16T16:39:29.692954",
     "status": "completed"
    },
    "tags": []
   },
   "outputs": [],
   "source": [
    "# avg_rating_df = ratings.groupby('title').mean()['rating'].reset_index()\n",
    "# avg_rating_df.rename(columns={'rating':'avg_rating'},inplace=True)\n",
    "# avg_rating_df"
   ]
  },
  {
   "cell_type": "code",
   "execution_count": null,
   "id": "39bb9518",
   "metadata": {
    "papermill": {
     "duration": 0.010996,
     "end_time": "2023-03-16T16:39:29.736620",
     "exception": false,
     "start_time": "2023-03-16T16:39:29.725624",
     "status": "completed"
    },
    "tags": []
   },
   "outputs": [],
   "source": []
  },
  {
   "cell_type": "markdown",
   "id": "83225d46",
   "metadata": {
    "papermill": {
     "duration": 0.010556,
     "end_time": "2023-03-16T16:39:29.758267",
     "exception": false,
     "start_time": "2023-03-16T16:39:29.747711",
     "status": "completed"
    },
    "tags": []
   },
   "source": [
    "#### Filtering the data on the basis of users and books"
   ]
  },
  {
   "cell_type": "code",
   "execution_count": 11,
   "id": "9dae554c",
   "metadata": {
    "execution": {
     "iopub.execute_input": "2023-03-16T16:39:29.781744Z",
     "iopub.status.busy": "2023-03-16T16:39:29.780774Z",
     "iopub.status.idle": "2023-03-16T16:39:32.440434Z",
     "shell.execute_reply": "2023-03-16T16:39:32.439388Z"
    },
    "papermill": {
     "duration": 2.674098,
     "end_time": "2023-03-16T16:39:32.443091",
     "exception": false,
     "start_time": "2023-03-16T16:39:29.768993",
     "status": "completed"
    },
    "tags": []
   },
   "outputs": [],
   "source": [
    "x = ratings.groupby('user_id').count()['rating'] > 200\n",
    "considerable_users = x[x].index"
   ]
  },
  {
   "cell_type": "code",
   "execution_count": 12,
   "id": "9b6c7c83",
   "metadata": {
    "execution": {
     "iopub.execute_input": "2023-03-16T16:39:32.464273Z",
     "iopub.status.busy": "2023-03-16T16:39:32.463957Z",
     "iopub.status.idle": "2023-03-16T16:39:32.699973Z",
     "shell.execute_reply": "2023-03-16T16:39:32.699009Z"
    },
    "papermill": {
     "duration": 0.248826,
     "end_time": "2023-03-16T16:39:32.702263",
     "exception": false,
     "start_time": "2023-03-16T16:39:32.453437",
     "status": "completed"
    },
    "tags": []
   },
   "outputs": [],
   "source": [
    "filtered_rating = ratings[ratings['user_id'].isin(considerable_users)]"
   ]
  },
  {
   "cell_type": "code",
   "execution_count": 13,
   "id": "70a003a3",
   "metadata": {
    "execution": {
     "iopub.execute_input": "2023-03-16T16:39:32.723281Z",
     "iopub.status.busy": "2023-03-16T16:39:32.722705Z",
     "iopub.status.idle": "2023-03-16T16:39:32.738240Z",
     "shell.execute_reply": "2023-03-16T16:39:32.737135Z"
    },
    "papermill": {
     "duration": 0.02836,
     "end_time": "2023-03-16T16:39:32.740489",
     "exception": false,
     "start_time": "2023-03-16T16:39:32.712129",
     "status": "completed"
    },
    "tags": []
   },
   "outputs": [
    {
     "data": {
      "text/html": [
       "<div>\n",
       "<style scoped>\n",
       "    .dataframe tbody tr th:only-of-type {\n",
       "        vertical-align: middle;\n",
       "    }\n",
       "\n",
       "    .dataframe tbody tr th {\n",
       "        vertical-align: top;\n",
       "    }\n",
       "\n",
       "    .dataframe thead th {\n",
       "        text-align: right;\n",
       "    }\n",
       "</style>\n",
       "<table border=\"1\" class=\"dataframe\">\n",
       "  <thead>\n",
       "    <tr style=\"text-align: right;\">\n",
       "      <th></th>\n",
       "      <th>book_id</th>\n",
       "      <th>user_id</th>\n",
       "      <th>rating</th>\n",
       "      <th>title</th>\n",
       "    </tr>\n",
       "  </thead>\n",
       "  <tbody>\n",
       "    <tr>\n",
       "      <th>1</th>\n",
       "      <td>0826414346</td>\n",
       "      <td>A30TK6U7DNS82R</td>\n",
       "      <td>5.0</td>\n",
       "      <td>Dr. Seuss: American Icon</td>\n",
       "    </tr>\n",
       "    <tr>\n",
       "      <th>6</th>\n",
       "      <td>0826414346</td>\n",
       "      <td>A14OJS0VWMOSWO</td>\n",
       "      <td>5.0</td>\n",
       "      <td>Dr. Seuss: American Icon</td>\n",
       "    </tr>\n",
       "    <tr>\n",
       "      <th>59</th>\n",
       "      <td>0963923080</td>\n",
       "      <td>A3NIQK6ZLYEP1L</td>\n",
       "      <td>4.0</td>\n",
       "      <td>Rising Sons and Daughters: Life Among Japan's ...</td>\n",
       "    </tr>\n",
       "    <tr>\n",
       "      <th>140</th>\n",
       "      <td>0789480662</td>\n",
       "      <td>A281NPSIMI1C2R</td>\n",
       "      <td>5.0</td>\n",
       "      <td>Eyewitness Travel Guide to Europe</td>\n",
       "    </tr>\n",
       "    <tr>\n",
       "      <th>176</th>\n",
       "      <td>1884734766</td>\n",
       "      <td>A14OJS0VWMOSWO</td>\n",
       "      <td>5.0</td>\n",
       "      <td>Dealing With Disappointment: Helping Kids Cope...</td>\n",
       "    </tr>\n",
       "    <tr>\n",
       "      <th>...</th>\n",
       "      <td>...</td>\n",
       "      <td>...</td>\n",
       "      <td>...</td>\n",
       "      <td>...</td>\n",
       "    </tr>\n",
       "    <tr>\n",
       "      <th>2999935</th>\n",
       "      <td>0786182431</td>\n",
       "      <td>A2CR57GAJKNWVV</td>\n",
       "      <td>4.0</td>\n",
       "      <td>Very Bad Deaths: Library Edition</td>\n",
       "    </tr>\n",
       "    <tr>\n",
       "      <th>2999937</th>\n",
       "      <td>0786182431</td>\n",
       "      <td>A1I2O9Y3X3HXLS</td>\n",
       "      <td>5.0</td>\n",
       "      <td>Very Bad Deaths: Library Edition</td>\n",
       "    </tr>\n",
       "    <tr>\n",
       "      <th>2999949</th>\n",
       "      <td>0786182431</td>\n",
       "      <td>AFVQZQ8PW0L</td>\n",
       "      <td>5.0</td>\n",
       "      <td>Very Bad Deaths: Library Edition</td>\n",
       "    </tr>\n",
       "    <tr>\n",
       "      <th>2999960</th>\n",
       "      <td>0679417052</td>\n",
       "      <td>A9Q28YTLYREO7</td>\n",
       "      <td>5.0</td>\n",
       "      <td>My Life</td>\n",
       "    </tr>\n",
       "    <tr>\n",
       "      <th>2999979</th>\n",
       "      <td>B00085PL4C</td>\n",
       "      <td>A32ZKBXJJ45BRY</td>\n",
       "      <td>3.0</td>\n",
       "      <td>Old Quebec,: The fortress of New France,</td>\n",
       "    </tr>\n",
       "  </tbody>\n",
       "</table>\n",
       "<p>134882 rows × 4 columns</p>\n",
       "</div>"
      ],
      "text/plain": [
       "            book_id         user_id  rating  \\\n",
       "1        0826414346  A30TK6U7DNS82R     5.0   \n",
       "6        0826414346  A14OJS0VWMOSWO     5.0   \n",
       "59       0963923080  A3NIQK6ZLYEP1L     4.0   \n",
       "140      0789480662  A281NPSIMI1C2R     5.0   \n",
       "176      1884734766  A14OJS0VWMOSWO     5.0   \n",
       "...             ...             ...     ...   \n",
       "2999935  0786182431  A2CR57GAJKNWVV     4.0   \n",
       "2999937  0786182431  A1I2O9Y3X3HXLS     5.0   \n",
       "2999949  0786182431     AFVQZQ8PW0L     5.0   \n",
       "2999960  0679417052   A9Q28YTLYREO7     5.0   \n",
       "2999979  B00085PL4C  A32ZKBXJJ45BRY     3.0   \n",
       "\n",
       "                                                     title  \n",
       "1                                 Dr. Seuss: American Icon  \n",
       "6                                 Dr. Seuss: American Icon  \n",
       "59       Rising Sons and Daughters: Life Among Japan's ...  \n",
       "140                      Eyewitness Travel Guide to Europe  \n",
       "176      Dealing With Disappointment: Helping Kids Cope...  \n",
       "...                                                    ...  \n",
       "2999935                   Very Bad Deaths: Library Edition  \n",
       "2999937                   Very Bad Deaths: Library Edition  \n",
       "2999949                   Very Bad Deaths: Library Edition  \n",
       "2999960                                            My Life  \n",
       "2999979           Old Quebec,: The fortress of New France,  \n",
       "\n",
       "[134882 rows x 4 columns]"
      ]
     },
     "execution_count": 13,
     "metadata": {},
     "output_type": "execute_result"
    }
   ],
   "source": [
    "filtered_rating"
   ]
  },
  {
   "cell_type": "code",
   "execution_count": 14,
   "id": "10fdfe87",
   "metadata": {
    "execution": {
     "iopub.execute_input": "2023-03-16T16:39:32.761808Z",
     "iopub.status.busy": "2023-03-16T16:39:32.760971Z",
     "iopub.status.idle": "2023-03-16T16:39:32.848226Z",
     "shell.execute_reply": "2023-03-16T16:39:32.847141Z"
    },
    "papermill": {
     "duration": 0.100349,
     "end_time": "2023-03-16T16:39:32.850945",
     "exception": false,
     "start_time": "2023-03-16T16:39:32.750596",
     "status": "completed"
    },
    "tags": []
   },
   "outputs": [],
   "source": [
    "y = filtered_rating.groupby('title').count()['rating']>=50\n",
    "famous_books = y[y].index"
   ]
  },
  {
   "cell_type": "code",
   "execution_count": 15,
   "id": "4523834e",
   "metadata": {
    "execution": {
     "iopub.execute_input": "2023-03-16T16:39:32.873711Z",
     "iopub.status.busy": "2023-03-16T16:39:32.872139Z",
     "iopub.status.idle": "2023-03-16T16:39:32.887016Z",
     "shell.execute_reply": "2023-03-16T16:39:32.886061Z"
    },
    "papermill": {
     "duration": 0.028098,
     "end_time": "2023-03-16T16:39:32.889203",
     "exception": false,
     "start_time": "2023-03-16T16:39:32.861105",
     "status": "completed"
    },
    "tags": []
   },
   "outputs": [],
   "source": [
    "final_ratings = filtered_rating[filtered_rating['title'].isin(famous_books)]"
   ]
  },
  {
   "cell_type": "code",
   "execution_count": 16,
   "id": "68b0daa3",
   "metadata": {
    "execution": {
     "iopub.execute_input": "2023-03-16T16:39:32.909918Z",
     "iopub.status.busy": "2023-03-16T16:39:32.909126Z",
     "iopub.status.idle": "2023-03-16T16:39:32.923328Z",
     "shell.execute_reply": "2023-03-16T16:39:32.922380Z"
    },
    "papermill": {
     "duration": 0.026722,
     "end_time": "2023-03-16T16:39:32.925557",
     "exception": false,
     "start_time": "2023-03-16T16:39:32.898835",
     "status": "completed"
    },
    "tags": []
   },
   "outputs": [
    {
     "data": {
      "text/html": [
       "<div>\n",
       "<style scoped>\n",
       "    .dataframe tbody tr th:only-of-type {\n",
       "        vertical-align: middle;\n",
       "    }\n",
       "\n",
       "    .dataframe tbody tr th {\n",
       "        vertical-align: top;\n",
       "    }\n",
       "\n",
       "    .dataframe thead th {\n",
       "        text-align: right;\n",
       "    }\n",
       "</style>\n",
       "<table border=\"1\" class=\"dataframe\">\n",
       "  <thead>\n",
       "    <tr style=\"text-align: right;\">\n",
       "      <th></th>\n",
       "      <th>book_id</th>\n",
       "      <th>user_id</th>\n",
       "      <th>rating</th>\n",
       "      <th>title</th>\n",
       "    </tr>\n",
       "  </thead>\n",
       "  <tbody>\n",
       "    <tr>\n",
       "      <th>1747</th>\n",
       "      <td>B000N6DDJQ</td>\n",
       "      <td>AUM3YMZ0YRJE0</td>\n",
       "      <td>5.0</td>\n",
       "      <td>The Scarlet Letter A Romance</td>\n",
       "    </tr>\n",
       "    <tr>\n",
       "      <th>1807</th>\n",
       "      <td>B000N6DDJQ</td>\n",
       "      <td>AMKZHBOK7VMQR</td>\n",
       "      <td>5.0</td>\n",
       "      <td>The Scarlet Letter A Romance</td>\n",
       "    </tr>\n",
       "    <tr>\n",
       "      <th>1820</th>\n",
       "      <td>B000N6DDJQ</td>\n",
       "      <td>AWLFVCT9128JV</td>\n",
       "      <td>4.0</td>\n",
       "      <td>The Scarlet Letter A Romance</td>\n",
       "    </tr>\n",
       "    <tr>\n",
       "      <th>1829</th>\n",
       "      <td>B000N6DDJQ</td>\n",
       "      <td>ABN5K7K1TM1QA</td>\n",
       "      <td>5.0</td>\n",
       "      <td>The Scarlet Letter A Romance</td>\n",
       "    </tr>\n",
       "    <tr>\n",
       "      <th>1830</th>\n",
       "      <td>B000N6DDJQ</td>\n",
       "      <td>A3IKBHODOTYYHM</td>\n",
       "      <td>4.0</td>\n",
       "      <td>The Scarlet Letter A Romance</td>\n",
       "    </tr>\n",
       "    <tr>\n",
       "      <th>...</th>\n",
       "      <td>...</td>\n",
       "      <td>...</td>\n",
       "      <td>...</td>\n",
       "      <td>...</td>\n",
       "    </tr>\n",
       "    <tr>\n",
       "      <th>2999633</th>\n",
       "      <td>B000P91JYW</td>\n",
       "      <td>A1D2C0WDCSHUWZ</td>\n",
       "      <td>5.0</td>\n",
       "      <td>Jane Eyre</td>\n",
       "    </tr>\n",
       "    <tr>\n",
       "      <th>2999638</th>\n",
       "      <td>B000P91JYW</td>\n",
       "      <td>AHUT55E980RDR</td>\n",
       "      <td>4.0</td>\n",
       "      <td>Jane Eyre</td>\n",
       "    </tr>\n",
       "    <tr>\n",
       "      <th>2999641</th>\n",
       "      <td>B000P91JYW</td>\n",
       "      <td>A1T17LMQABMBN5</td>\n",
       "      <td>5.0</td>\n",
       "      <td>Jane Eyre</td>\n",
       "    </tr>\n",
       "    <tr>\n",
       "      <th>2999646</th>\n",
       "      <td>B000P91JYW</td>\n",
       "      <td>AJQ1S39GZBKUG</td>\n",
       "      <td>5.0</td>\n",
       "      <td>Jane Eyre</td>\n",
       "    </tr>\n",
       "    <tr>\n",
       "      <th>2999664</th>\n",
       "      <td>B000P91JYW</td>\n",
       "      <td>AQCQ5F0OJXMG9</td>\n",
       "      <td>5.0</td>\n",
       "      <td>Jane Eyre</td>\n",
       "    </tr>\n",
       "  </tbody>\n",
       "</table>\n",
       "<p>17115 rows × 4 columns</p>\n",
       "</div>"
      ],
      "text/plain": [
       "            book_id         user_id  rating                         title\n",
       "1747     B000N6DDJQ   AUM3YMZ0YRJE0     5.0  The Scarlet Letter A Romance\n",
       "1807     B000N6DDJQ   AMKZHBOK7VMQR     5.0  The Scarlet Letter A Romance\n",
       "1820     B000N6DDJQ   AWLFVCT9128JV     4.0  The Scarlet Letter A Romance\n",
       "1829     B000N6DDJQ   ABN5K7K1TM1QA     5.0  The Scarlet Letter A Romance\n",
       "1830     B000N6DDJQ  A3IKBHODOTYYHM     4.0  The Scarlet Letter A Romance\n",
       "...             ...             ...     ...                           ...\n",
       "2999633  B000P91JYW  A1D2C0WDCSHUWZ     5.0                     Jane Eyre\n",
       "2999638  B000P91JYW   AHUT55E980RDR     4.0                     Jane Eyre\n",
       "2999641  B000P91JYW  A1T17LMQABMBN5     5.0                     Jane Eyre\n",
       "2999646  B000P91JYW   AJQ1S39GZBKUG     5.0                     Jane Eyre\n",
       "2999664  B000P91JYW   AQCQ5F0OJXMG9     5.0                     Jane Eyre\n",
       "\n",
       "[17115 rows x 4 columns]"
      ]
     },
     "execution_count": 16,
     "metadata": {},
     "output_type": "execute_result"
    }
   ],
   "source": [
    "final_ratings"
   ]
  },
  {
   "cell_type": "code",
   "execution_count": 17,
   "id": "80845cd1",
   "metadata": {
    "execution": {
     "iopub.execute_input": "2023-03-16T16:39:32.946961Z",
     "iopub.status.busy": "2023-03-16T16:39:32.946121Z",
     "iopub.status.idle": "2023-03-16T16:39:32.985739Z",
     "shell.execute_reply": "2023-03-16T16:39:32.984763Z"
    },
    "papermill": {
     "duration": 0.052373,
     "end_time": "2023-03-16T16:39:32.988019",
     "exception": false,
     "start_time": "2023-03-16T16:39:32.935646",
     "status": "completed"
    },
    "tags": []
   },
   "outputs": [],
   "source": [
    "# saving the final dataset\n",
    "final_ratings.to_csv('final_ratings.csv',index=False)"
   ]
  },
  {
   "cell_type": "markdown",
   "id": "7e9dddd2",
   "metadata": {
    "papermill": {
     "duration": 0.009654,
     "end_time": "2023-03-16T16:39:33.008226",
     "exception": false,
     "start_time": "2023-03-16T16:39:32.998572",
     "status": "completed"
    },
    "tags": []
   },
   "source": [
    "## Loading the final saved Dataset"
   ]
  },
  {
   "cell_type": "code",
   "execution_count": 18,
   "id": "a18f831d",
   "metadata": {
    "execution": {
     "iopub.execute_input": "2023-03-16T16:39:33.029405Z",
     "iopub.status.busy": "2023-03-16T16:39:33.029111Z",
     "iopub.status.idle": "2023-03-16T16:39:33.033510Z",
     "shell.execute_reply": "2023-03-16T16:39:33.032538Z"
    },
    "papermill": {
     "duration": 0.017456,
     "end_time": "2023-03-16T16:39:33.035582",
     "exception": false,
     "start_time": "2023-03-16T16:39:33.018126",
     "status": "completed"
    },
    "tags": []
   },
   "outputs": [],
   "source": [
    "import pandas as pd\n",
    "import numpy as np"
   ]
  },
  {
   "cell_type": "code",
   "execution_count": 19,
   "id": "fc4d1017",
   "metadata": {
    "execution": {
     "iopub.execute_input": "2023-03-16T16:39:33.056567Z",
     "iopub.status.busy": "2023-03-16T16:39:33.055800Z",
     "iopub.status.idle": "2023-03-16T16:39:33.086202Z",
     "shell.execute_reply": "2023-03-16T16:39:33.085344Z"
    },
    "papermill": {
     "duration": 0.043176,
     "end_time": "2023-03-16T16:39:33.088430",
     "exception": false,
     "start_time": "2023-03-16T16:39:33.045254",
     "status": "completed"
    },
    "tags": []
   },
   "outputs": [],
   "source": [
    "final_df = pd.read_csv('/kaggle/input/book-recommendation-dataset/final_ratings.csv')"
   ]
  },
  {
   "cell_type": "code",
   "execution_count": 20,
   "id": "c7d83aeb",
   "metadata": {
    "execution": {
     "iopub.execute_input": "2023-03-16T16:39:33.109859Z",
     "iopub.status.busy": "2023-03-16T16:39:33.109050Z",
     "iopub.status.idle": "2023-03-16T16:39:33.120440Z",
     "shell.execute_reply": "2023-03-16T16:39:33.119392Z"
    },
    "papermill": {
     "duration": 0.024689,
     "end_time": "2023-03-16T16:39:33.122939",
     "exception": false,
     "start_time": "2023-03-16T16:39:33.098250",
     "status": "completed"
    },
    "tags": []
   },
   "outputs": [
    {
     "data": {
      "text/html": [
       "<div>\n",
       "<style scoped>\n",
       "    .dataframe tbody tr th:only-of-type {\n",
       "        vertical-align: middle;\n",
       "    }\n",
       "\n",
       "    .dataframe tbody tr th {\n",
       "        vertical-align: top;\n",
       "    }\n",
       "\n",
       "    .dataframe thead th {\n",
       "        text-align: right;\n",
       "    }\n",
       "</style>\n",
       "<table border=\"1\" class=\"dataframe\">\n",
       "  <thead>\n",
       "    <tr style=\"text-align: right;\">\n",
       "      <th></th>\n",
       "      <th>book_id</th>\n",
       "      <th>user_id</th>\n",
       "      <th>rating</th>\n",
       "      <th>title</th>\n",
       "    </tr>\n",
       "  </thead>\n",
       "  <tbody>\n",
       "    <tr>\n",
       "      <th>0</th>\n",
       "      <td>B000N6DDJQ</td>\n",
       "      <td>AUM3YMZ0YRJE0</td>\n",
       "      <td>5.0</td>\n",
       "      <td>The Scarlet Letter A Romance</td>\n",
       "    </tr>\n",
       "    <tr>\n",
       "      <th>1</th>\n",
       "      <td>B000N6DDJQ</td>\n",
       "      <td>AMKZHBOK7VMQR</td>\n",
       "      <td>5.0</td>\n",
       "      <td>The Scarlet Letter A Romance</td>\n",
       "    </tr>\n",
       "    <tr>\n",
       "      <th>2</th>\n",
       "      <td>B000N6DDJQ</td>\n",
       "      <td>AWLFVCT9128JV</td>\n",
       "      <td>4.0</td>\n",
       "      <td>The Scarlet Letter A Romance</td>\n",
       "    </tr>\n",
       "    <tr>\n",
       "      <th>3</th>\n",
       "      <td>B000N6DDJQ</td>\n",
       "      <td>ABN5K7K1TM1QA</td>\n",
       "      <td>5.0</td>\n",
       "      <td>The Scarlet Letter A Romance</td>\n",
       "    </tr>\n",
       "    <tr>\n",
       "      <th>4</th>\n",
       "      <td>B000N6DDJQ</td>\n",
       "      <td>A3IKBHODOTYYHM</td>\n",
       "      <td>4.0</td>\n",
       "      <td>The Scarlet Letter A Romance</td>\n",
       "    </tr>\n",
       "  </tbody>\n",
       "</table>\n",
       "</div>"
      ],
      "text/plain": [
       "      book_id         user_id  rating                         title\n",
       "0  B000N6DDJQ   AUM3YMZ0YRJE0     5.0  The Scarlet Letter A Romance\n",
       "1  B000N6DDJQ   AMKZHBOK7VMQR     5.0  The Scarlet Letter A Romance\n",
       "2  B000N6DDJQ   AWLFVCT9128JV     4.0  The Scarlet Letter A Romance\n",
       "3  B000N6DDJQ   ABN5K7K1TM1QA     5.0  The Scarlet Letter A Romance\n",
       "4  B000N6DDJQ  A3IKBHODOTYYHM     4.0  The Scarlet Letter A Romance"
      ]
     },
     "execution_count": 20,
     "metadata": {},
     "output_type": "execute_result"
    }
   ],
   "source": [
    "final_df.head()"
   ]
  },
  {
   "cell_type": "markdown",
   "id": "0a9272e5",
   "metadata": {
    "papermill": {
     "duration": 0.009837,
     "end_time": "2023-03-16T16:39:33.143387",
     "exception": false,
     "start_time": "2023-03-16T16:39:33.133550",
     "status": "completed"
    },
    "tags": []
   },
   "source": [
    "### Creating the Pivot Table"
   ]
  },
  {
   "cell_type": "code",
   "execution_count": 21,
   "id": "62901b65",
   "metadata": {
    "execution": {
     "iopub.execute_input": "2023-03-16T16:39:33.164828Z",
     "iopub.status.busy": "2023-03-16T16:39:33.164043Z",
     "iopub.status.idle": "2023-03-16T16:39:33.192482Z",
     "shell.execute_reply": "2023-03-16T16:39:33.191456Z"
    },
    "papermill": {
     "duration": 0.041309,
     "end_time": "2023-03-16T16:39:33.194757",
     "exception": false,
     "start_time": "2023-03-16T16:39:33.153448",
     "status": "completed"
    },
    "tags": []
   },
   "outputs": [],
   "source": [
    "pt = final_df.pivot_table(index='user_id',columns='title',values='rating')"
   ]
  },
  {
   "cell_type": "code",
   "execution_count": 22,
   "id": "e956e696",
   "metadata": {
    "execution": {
     "iopub.execute_input": "2023-03-16T16:39:33.217257Z",
     "iopub.status.busy": "2023-03-16T16:39:33.216975Z",
     "iopub.status.idle": "2023-03-16T16:39:33.252865Z",
     "shell.execute_reply": "2023-03-16T16:39:33.251892Z"
    },
    "papermill": {
     "duration": 0.050449,
     "end_time": "2023-03-16T16:39:33.255206",
     "exception": false,
     "start_time": "2023-03-16T16:39:33.204757",
     "status": "completed"
    },
    "tags": []
   },
   "outputs": [
    {
     "data": {
      "text/html": [
       "<div>\n",
       "<style scoped>\n",
       "    .dataframe tbody tr th:only-of-type {\n",
       "        vertical-align: middle;\n",
       "    }\n",
       "\n",
       "    .dataframe tbody tr th {\n",
       "        vertical-align: top;\n",
       "    }\n",
       "\n",
       "    .dataframe thead th {\n",
       "        text-align: right;\n",
       "    }\n",
       "</style>\n",
       "<table border=\"1\" class=\"dataframe\">\n",
       "  <thead>\n",
       "    <tr style=\"text-align: right;\">\n",
       "      <th>title</th>\n",
       "      <th>1984</th>\n",
       "      <th>A Christmas Carol (Classic Fiction)</th>\n",
       "      <th>A Connecticut Yankee in King Arthur's Court</th>\n",
       "      <th>A Farewell to Arms</th>\n",
       "      <th>A Fine Balance</th>\n",
       "      <th>A Journey to the Center of the Earth</th>\n",
       "      <th>A Portrait of the Artist As a Young Man</th>\n",
       "      <th>A Portrait of the Artist as a Young Man</th>\n",
       "      <th>A Princess of Mars</th>\n",
       "      <th>A Tree Grows in Brooklyn</th>\n",
       "      <th>...</th>\n",
       "      <th>Ulysses,</th>\n",
       "      <th>Ulysses.</th>\n",
       "      <th>Wuthering Heights</th>\n",
       "      <th>Wuthering Heights (College classics in English)</th>\n",
       "      <th>Wuthering Heights (New Windmill)</th>\n",
       "      <th>Wuthering Heights (Penguin Audiobooks)</th>\n",
       "      <th>Wuthering Heights (Riverside editions)</th>\n",
       "      <th>Wuthering Heights (Signet classics)</th>\n",
       "      <th>Wuthering Heights (The Franklin Library)</th>\n",
       "      <th>Wuthering Heights.</th>\n",
       "    </tr>\n",
       "    <tr>\n",
       "      <th>user_id</th>\n",
       "      <th></th>\n",
       "      <th></th>\n",
       "      <th></th>\n",
       "      <th></th>\n",
       "      <th></th>\n",
       "      <th></th>\n",
       "      <th></th>\n",
       "      <th></th>\n",
       "      <th></th>\n",
       "      <th></th>\n",
       "      <th></th>\n",
       "      <th></th>\n",
       "      <th></th>\n",
       "      <th></th>\n",
       "      <th></th>\n",
       "      <th></th>\n",
       "      <th></th>\n",
       "      <th></th>\n",
       "      <th></th>\n",
       "      <th></th>\n",
       "      <th></th>\n",
       "    </tr>\n",
       "  </thead>\n",
       "  <tbody>\n",
       "    <tr>\n",
       "      <th>A106016KSI0YQ</th>\n",
       "      <td>NaN</td>\n",
       "      <td>NaN</td>\n",
       "      <td>NaN</td>\n",
       "      <td>NaN</td>\n",
       "      <td>NaN</td>\n",
       "      <td>NaN</td>\n",
       "      <td>NaN</td>\n",
       "      <td>NaN</td>\n",
       "      <td>NaN</td>\n",
       "      <td>NaN</td>\n",
       "      <td>...</td>\n",
       "      <td>NaN</td>\n",
       "      <td>NaN</td>\n",
       "      <td>NaN</td>\n",
       "      <td>NaN</td>\n",
       "      <td>NaN</td>\n",
       "      <td>NaN</td>\n",
       "      <td>NaN</td>\n",
       "      <td>NaN</td>\n",
       "      <td>NaN</td>\n",
       "      <td>NaN</td>\n",
       "    </tr>\n",
       "    <tr>\n",
       "      <th>A10T0OW97SFBB</th>\n",
       "      <td>NaN</td>\n",
       "      <td>NaN</td>\n",
       "      <td>NaN</td>\n",
       "      <td>NaN</td>\n",
       "      <td>NaN</td>\n",
       "      <td>NaN</td>\n",
       "      <td>NaN</td>\n",
       "      <td>NaN</td>\n",
       "      <td>NaN</td>\n",
       "      <td>NaN</td>\n",
       "      <td>...</td>\n",
       "      <td>NaN</td>\n",
       "      <td>NaN</td>\n",
       "      <td>4.0</td>\n",
       "      <td>4.0</td>\n",
       "      <td>4.0</td>\n",
       "      <td>4.0</td>\n",
       "      <td>4.0</td>\n",
       "      <td>4.0</td>\n",
       "      <td>4.0</td>\n",
       "      <td>4.0</td>\n",
       "    </tr>\n",
       "    <tr>\n",
       "      <th>A114YQ7ZT9Y1W5</th>\n",
       "      <td>NaN</td>\n",
       "      <td>NaN</td>\n",
       "      <td>NaN</td>\n",
       "      <td>NaN</td>\n",
       "      <td>NaN</td>\n",
       "      <td>NaN</td>\n",
       "      <td>NaN</td>\n",
       "      <td>NaN</td>\n",
       "      <td>NaN</td>\n",
       "      <td>NaN</td>\n",
       "      <td>...</td>\n",
       "      <td>5.0</td>\n",
       "      <td>5.0</td>\n",
       "      <td>NaN</td>\n",
       "      <td>NaN</td>\n",
       "      <td>NaN</td>\n",
       "      <td>NaN</td>\n",
       "      <td>NaN</td>\n",
       "      <td>NaN</td>\n",
       "      <td>NaN</td>\n",
       "      <td>NaN</td>\n",
       "    </tr>\n",
       "    <tr>\n",
       "      <th>A11DCTGTPS7M0C</th>\n",
       "      <td>NaN</td>\n",
       "      <td>NaN</td>\n",
       "      <td>NaN</td>\n",
       "      <td>4.0</td>\n",
       "      <td>NaN</td>\n",
       "      <td>NaN</td>\n",
       "      <td>NaN</td>\n",
       "      <td>NaN</td>\n",
       "      <td>NaN</td>\n",
       "      <td>NaN</td>\n",
       "      <td>...</td>\n",
       "      <td>5.0</td>\n",
       "      <td>5.0</td>\n",
       "      <td>NaN</td>\n",
       "      <td>NaN</td>\n",
       "      <td>NaN</td>\n",
       "      <td>NaN</td>\n",
       "      <td>NaN</td>\n",
       "      <td>NaN</td>\n",
       "      <td>NaN</td>\n",
       "      <td>NaN</td>\n",
       "    </tr>\n",
       "    <tr>\n",
       "      <th>A126KX6FVI4T66</th>\n",
       "      <td>NaN</td>\n",
       "      <td>NaN</td>\n",
       "      <td>NaN</td>\n",
       "      <td>NaN</td>\n",
       "      <td>NaN</td>\n",
       "      <td>NaN</td>\n",
       "      <td>NaN</td>\n",
       "      <td>NaN</td>\n",
       "      <td>NaN</td>\n",
       "      <td>NaN</td>\n",
       "      <td>...</td>\n",
       "      <td>NaN</td>\n",
       "      <td>NaN</td>\n",
       "      <td>NaN</td>\n",
       "      <td>NaN</td>\n",
       "      <td>NaN</td>\n",
       "      <td>NaN</td>\n",
       "      <td>NaN</td>\n",
       "      <td>NaN</td>\n",
       "      <td>NaN</td>\n",
       "      <td>NaN</td>\n",
       "    </tr>\n",
       "    <tr>\n",
       "      <th>...</th>\n",
       "      <td>...</td>\n",
       "      <td>...</td>\n",
       "      <td>...</td>\n",
       "      <td>...</td>\n",
       "      <td>...</td>\n",
       "      <td>...</td>\n",
       "      <td>...</td>\n",
       "      <td>...</td>\n",
       "      <td>...</td>\n",
       "      <td>...</td>\n",
       "      <td>...</td>\n",
       "      <td>...</td>\n",
       "      <td>...</td>\n",
       "      <td>...</td>\n",
       "      <td>...</td>\n",
       "      <td>...</td>\n",
       "      <td>...</td>\n",
       "      <td>...</td>\n",
       "      <td>...</td>\n",
       "      <td>...</td>\n",
       "      <td>...</td>\n",
       "    </tr>\n",
       "    <tr>\n",
       "      <th>AV74NYPSKHXBU</th>\n",
       "      <td>4.0</td>\n",
       "      <td>NaN</td>\n",
       "      <td>5.0</td>\n",
       "      <td>NaN</td>\n",
       "      <td>NaN</td>\n",
       "      <td>NaN</td>\n",
       "      <td>NaN</td>\n",
       "      <td>NaN</td>\n",
       "      <td>NaN</td>\n",
       "      <td>5.0</td>\n",
       "      <td>...</td>\n",
       "      <td>NaN</td>\n",
       "      <td>NaN</td>\n",
       "      <td>5.0</td>\n",
       "      <td>5.0</td>\n",
       "      <td>5.0</td>\n",
       "      <td>5.0</td>\n",
       "      <td>5.0</td>\n",
       "      <td>5.0</td>\n",
       "      <td>5.0</td>\n",
       "      <td>5.0</td>\n",
       "    </tr>\n",
       "    <tr>\n",
       "      <th>AWLFVCT9128JV</th>\n",
       "      <td>5.0</td>\n",
       "      <td>NaN</td>\n",
       "      <td>NaN</td>\n",
       "      <td>NaN</td>\n",
       "      <td>NaN</td>\n",
       "      <td>NaN</td>\n",
       "      <td>NaN</td>\n",
       "      <td>NaN</td>\n",
       "      <td>4.0</td>\n",
       "      <td>NaN</td>\n",
       "      <td>...</td>\n",
       "      <td>NaN</td>\n",
       "      <td>NaN</td>\n",
       "      <td>NaN</td>\n",
       "      <td>NaN</td>\n",
       "      <td>NaN</td>\n",
       "      <td>NaN</td>\n",
       "      <td>NaN</td>\n",
       "      <td>NaN</td>\n",
       "      <td>NaN</td>\n",
       "      <td>NaN</td>\n",
       "    </tr>\n",
       "    <tr>\n",
       "      <th>AX54G5AL870Q8</th>\n",
       "      <td>NaN</td>\n",
       "      <td>NaN</td>\n",
       "      <td>NaN</td>\n",
       "      <td>NaN</td>\n",
       "      <td>5.0</td>\n",
       "      <td>NaN</td>\n",
       "      <td>NaN</td>\n",
       "      <td>NaN</td>\n",
       "      <td>NaN</td>\n",
       "      <td>NaN</td>\n",
       "      <td>...</td>\n",
       "      <td>NaN</td>\n",
       "      <td>NaN</td>\n",
       "      <td>NaN</td>\n",
       "      <td>NaN</td>\n",
       "      <td>NaN</td>\n",
       "      <td>NaN</td>\n",
       "      <td>NaN</td>\n",
       "      <td>NaN</td>\n",
       "      <td>NaN</td>\n",
       "      <td>NaN</td>\n",
       "    </tr>\n",
       "    <tr>\n",
       "      <th>AXSH6O4OP5L4M</th>\n",
       "      <td>NaN</td>\n",
       "      <td>NaN</td>\n",
       "      <td>NaN</td>\n",
       "      <td>NaN</td>\n",
       "      <td>NaN</td>\n",
       "      <td>NaN</td>\n",
       "      <td>NaN</td>\n",
       "      <td>NaN</td>\n",
       "      <td>NaN</td>\n",
       "      <td>NaN</td>\n",
       "      <td>...</td>\n",
       "      <td>NaN</td>\n",
       "      <td>NaN</td>\n",
       "      <td>NaN</td>\n",
       "      <td>NaN</td>\n",
       "      <td>NaN</td>\n",
       "      <td>NaN</td>\n",
       "      <td>NaN</td>\n",
       "      <td>NaN</td>\n",
       "      <td>NaN</td>\n",
       "      <td>NaN</td>\n",
       "    </tr>\n",
       "    <tr>\n",
       "      <th>AYT4FJYVCHYLE</th>\n",
       "      <td>NaN</td>\n",
       "      <td>NaN</td>\n",
       "      <td>NaN</td>\n",
       "      <td>NaN</td>\n",
       "      <td>4.0</td>\n",
       "      <td>NaN</td>\n",
       "      <td>NaN</td>\n",
       "      <td>NaN</td>\n",
       "      <td>NaN</td>\n",
       "      <td>NaN</td>\n",
       "      <td>...</td>\n",
       "      <td>NaN</td>\n",
       "      <td>NaN</td>\n",
       "      <td>NaN</td>\n",
       "      <td>NaN</td>\n",
       "      <td>NaN</td>\n",
       "      <td>NaN</td>\n",
       "      <td>NaN</td>\n",
       "      <td>NaN</td>\n",
       "      <td>NaN</td>\n",
       "      <td>NaN</td>\n",
       "    </tr>\n",
       "  </tbody>\n",
       "</table>\n",
       "<p>298 rows × 176 columns</p>\n",
       "</div>"
      ],
      "text/plain": [
       "title           1984  A Christmas Carol (Classic Fiction)  \\\n",
       "user_id                                                     \n",
       "A106016KSI0YQ    NaN                                  NaN   \n",
       "A10T0OW97SFBB    NaN                                  NaN   \n",
       "A114YQ7ZT9Y1W5   NaN                                  NaN   \n",
       "A11DCTGTPS7M0C   NaN                                  NaN   \n",
       "A126KX6FVI4T66   NaN                                  NaN   \n",
       "...              ...                                  ...   \n",
       "AV74NYPSKHXBU    4.0                                  NaN   \n",
       "AWLFVCT9128JV    5.0                                  NaN   \n",
       "AX54G5AL870Q8    NaN                                  NaN   \n",
       "AXSH6O4OP5L4M    NaN                                  NaN   \n",
       "AYT4FJYVCHYLE    NaN                                  NaN   \n",
       "\n",
       "title           A Connecticut Yankee in King Arthur's Court  \\\n",
       "user_id                                                       \n",
       "A106016KSI0YQ                                           NaN   \n",
       "A10T0OW97SFBB                                           NaN   \n",
       "A114YQ7ZT9Y1W5                                          NaN   \n",
       "A11DCTGTPS7M0C                                          NaN   \n",
       "A126KX6FVI4T66                                          NaN   \n",
       "...                                                     ...   \n",
       "AV74NYPSKHXBU                                           5.0   \n",
       "AWLFVCT9128JV                                           NaN   \n",
       "AX54G5AL870Q8                                           NaN   \n",
       "AXSH6O4OP5L4M                                           NaN   \n",
       "AYT4FJYVCHYLE                                           NaN   \n",
       "\n",
       "title           A Farewell to Arms  A Fine Balance  \\\n",
       "user_id                                              \n",
       "A106016KSI0YQ                  NaN             NaN   \n",
       "A10T0OW97SFBB                  NaN             NaN   \n",
       "A114YQ7ZT9Y1W5                 NaN             NaN   \n",
       "A11DCTGTPS7M0C                 4.0             NaN   \n",
       "A126KX6FVI4T66                 NaN             NaN   \n",
       "...                            ...             ...   \n",
       "AV74NYPSKHXBU                  NaN             NaN   \n",
       "AWLFVCT9128JV                  NaN             NaN   \n",
       "AX54G5AL870Q8                  NaN             5.0   \n",
       "AXSH6O4OP5L4M                  NaN             NaN   \n",
       "AYT4FJYVCHYLE                  NaN             4.0   \n",
       "\n",
       "title           A Journey to the Center of the Earth  \\\n",
       "user_id                                                \n",
       "A106016KSI0YQ                                    NaN   \n",
       "A10T0OW97SFBB                                    NaN   \n",
       "A114YQ7ZT9Y1W5                                   NaN   \n",
       "A11DCTGTPS7M0C                                   NaN   \n",
       "A126KX6FVI4T66                                   NaN   \n",
       "...                                              ...   \n",
       "AV74NYPSKHXBU                                    NaN   \n",
       "AWLFVCT9128JV                                    NaN   \n",
       "AX54G5AL870Q8                                    NaN   \n",
       "AXSH6O4OP5L4M                                    NaN   \n",
       "AYT4FJYVCHYLE                                    NaN   \n",
       "\n",
       "title           A Portrait of the Artist As a Young Man  \\\n",
       "user_id                                                   \n",
       "A106016KSI0YQ                                       NaN   \n",
       "A10T0OW97SFBB                                       NaN   \n",
       "A114YQ7ZT9Y1W5                                      NaN   \n",
       "A11DCTGTPS7M0C                                      NaN   \n",
       "A126KX6FVI4T66                                      NaN   \n",
       "...                                                 ...   \n",
       "AV74NYPSKHXBU                                       NaN   \n",
       "AWLFVCT9128JV                                       NaN   \n",
       "AX54G5AL870Q8                                       NaN   \n",
       "AXSH6O4OP5L4M                                       NaN   \n",
       "AYT4FJYVCHYLE                                       NaN   \n",
       "\n",
       "title           A Portrait of the Artist as a Young Man  A Princess of Mars  \\\n",
       "user_id                                                                       \n",
       "A106016KSI0YQ                                       NaN                 NaN   \n",
       "A10T0OW97SFBB                                       NaN                 NaN   \n",
       "A114YQ7ZT9Y1W5                                      NaN                 NaN   \n",
       "A11DCTGTPS7M0C                                      NaN                 NaN   \n",
       "A126KX6FVI4T66                                      NaN                 NaN   \n",
       "...                                                 ...                 ...   \n",
       "AV74NYPSKHXBU                                       NaN                 NaN   \n",
       "AWLFVCT9128JV                                       NaN                 4.0   \n",
       "AX54G5AL870Q8                                       NaN                 NaN   \n",
       "AXSH6O4OP5L4M                                       NaN                 NaN   \n",
       "AYT4FJYVCHYLE                                       NaN                 NaN   \n",
       "\n",
       "title           A Tree Grows in Brooklyn  ...  Ulysses,  Ulysses.  \\\n",
       "user_id                                   ...                       \n",
       "A106016KSI0YQ                        NaN  ...       NaN       NaN   \n",
       "A10T0OW97SFBB                        NaN  ...       NaN       NaN   \n",
       "A114YQ7ZT9Y1W5                       NaN  ...       5.0       5.0   \n",
       "A11DCTGTPS7M0C                       NaN  ...       5.0       5.0   \n",
       "A126KX6FVI4T66                       NaN  ...       NaN       NaN   \n",
       "...                                  ...  ...       ...       ...   \n",
       "AV74NYPSKHXBU                        5.0  ...       NaN       NaN   \n",
       "AWLFVCT9128JV                        NaN  ...       NaN       NaN   \n",
       "AX54G5AL870Q8                        NaN  ...       NaN       NaN   \n",
       "AXSH6O4OP5L4M                        NaN  ...       NaN       NaN   \n",
       "AYT4FJYVCHYLE                        NaN  ...       NaN       NaN   \n",
       "\n",
       "title           Wuthering Heights  \\\n",
       "user_id                             \n",
       "A106016KSI0YQ                 NaN   \n",
       "A10T0OW97SFBB                 4.0   \n",
       "A114YQ7ZT9Y1W5                NaN   \n",
       "A11DCTGTPS7M0C                NaN   \n",
       "A126KX6FVI4T66                NaN   \n",
       "...                           ...   \n",
       "AV74NYPSKHXBU                 5.0   \n",
       "AWLFVCT9128JV                 NaN   \n",
       "AX54G5AL870Q8                 NaN   \n",
       "AXSH6O4OP5L4M                 NaN   \n",
       "AYT4FJYVCHYLE                 NaN   \n",
       "\n",
       "title           Wuthering Heights (College classics in English)  \\\n",
       "user_id                                                           \n",
       "A106016KSI0YQ                                               NaN   \n",
       "A10T0OW97SFBB                                               4.0   \n",
       "A114YQ7ZT9Y1W5                                              NaN   \n",
       "A11DCTGTPS7M0C                                              NaN   \n",
       "A126KX6FVI4T66                                              NaN   \n",
       "...                                                         ...   \n",
       "AV74NYPSKHXBU                                               5.0   \n",
       "AWLFVCT9128JV                                               NaN   \n",
       "AX54G5AL870Q8                                               NaN   \n",
       "AXSH6O4OP5L4M                                               NaN   \n",
       "AYT4FJYVCHYLE                                               NaN   \n",
       "\n",
       "title           Wuthering Heights (New Windmill)  \\\n",
       "user_id                                            \n",
       "A106016KSI0YQ                                NaN   \n",
       "A10T0OW97SFBB                                4.0   \n",
       "A114YQ7ZT9Y1W5                               NaN   \n",
       "A11DCTGTPS7M0C                               NaN   \n",
       "A126KX6FVI4T66                               NaN   \n",
       "...                                          ...   \n",
       "AV74NYPSKHXBU                                5.0   \n",
       "AWLFVCT9128JV                                NaN   \n",
       "AX54G5AL870Q8                                NaN   \n",
       "AXSH6O4OP5L4M                                NaN   \n",
       "AYT4FJYVCHYLE                                NaN   \n",
       "\n",
       "title           Wuthering Heights (Penguin Audiobooks)  \\\n",
       "user_id                                                  \n",
       "A106016KSI0YQ                                      NaN   \n",
       "A10T0OW97SFBB                                      4.0   \n",
       "A114YQ7ZT9Y1W5                                     NaN   \n",
       "A11DCTGTPS7M0C                                     NaN   \n",
       "A126KX6FVI4T66                                     NaN   \n",
       "...                                                ...   \n",
       "AV74NYPSKHXBU                                      5.0   \n",
       "AWLFVCT9128JV                                      NaN   \n",
       "AX54G5AL870Q8                                      NaN   \n",
       "AXSH6O4OP5L4M                                      NaN   \n",
       "AYT4FJYVCHYLE                                      NaN   \n",
       "\n",
       "title           Wuthering Heights (Riverside editions)  \\\n",
       "user_id                                                  \n",
       "A106016KSI0YQ                                      NaN   \n",
       "A10T0OW97SFBB                                      4.0   \n",
       "A114YQ7ZT9Y1W5                                     NaN   \n",
       "A11DCTGTPS7M0C                                     NaN   \n",
       "A126KX6FVI4T66                                     NaN   \n",
       "...                                                ...   \n",
       "AV74NYPSKHXBU                                      5.0   \n",
       "AWLFVCT9128JV                                      NaN   \n",
       "AX54G5AL870Q8                                      NaN   \n",
       "AXSH6O4OP5L4M                                      NaN   \n",
       "AYT4FJYVCHYLE                                      NaN   \n",
       "\n",
       "title           Wuthering Heights (Signet classics)  \\\n",
       "user_id                                               \n",
       "A106016KSI0YQ                                   NaN   \n",
       "A10T0OW97SFBB                                   4.0   \n",
       "A114YQ7ZT9Y1W5                                  NaN   \n",
       "A11DCTGTPS7M0C                                  NaN   \n",
       "A126KX6FVI4T66                                  NaN   \n",
       "...                                             ...   \n",
       "AV74NYPSKHXBU                                   5.0   \n",
       "AWLFVCT9128JV                                   NaN   \n",
       "AX54G5AL870Q8                                   NaN   \n",
       "AXSH6O4OP5L4M                                   NaN   \n",
       "AYT4FJYVCHYLE                                   NaN   \n",
       "\n",
       "title           Wuthering Heights (The Franklin Library)  Wuthering Heights.  \n",
       "user_id                                                                       \n",
       "A106016KSI0YQ                                        NaN                 NaN  \n",
       "A10T0OW97SFBB                                        4.0                 4.0  \n",
       "A114YQ7ZT9Y1W5                                       NaN                 NaN  \n",
       "A11DCTGTPS7M0C                                       NaN                 NaN  \n",
       "A126KX6FVI4T66                                       NaN                 NaN  \n",
       "...                                                  ...                 ...  \n",
       "AV74NYPSKHXBU                                        5.0                 5.0  \n",
       "AWLFVCT9128JV                                        NaN                 NaN  \n",
       "AX54G5AL870Q8                                        NaN                 NaN  \n",
       "AXSH6O4OP5L4M                                        NaN                 NaN  \n",
       "AYT4FJYVCHYLE                                        NaN                 NaN  \n",
       "\n",
       "[298 rows x 176 columns]"
      ]
     },
     "execution_count": 22,
     "metadata": {},
     "output_type": "execute_result"
    }
   ],
   "source": [
    "pt"
   ]
  },
  {
   "cell_type": "code",
   "execution_count": 23,
   "id": "faee688f",
   "metadata": {
    "execution": {
     "iopub.execute_input": "2023-03-16T16:39:33.277748Z",
     "iopub.status.busy": "2023-03-16T16:39:33.277451Z",
     "iopub.status.idle": "2023-03-16T16:39:33.282405Z",
     "shell.execute_reply": "2023-03-16T16:39:33.281357Z"
    },
    "papermill": {
     "duration": 0.018477,
     "end_time": "2023-03-16T16:39:33.284693",
     "exception": false,
     "start_time": "2023-03-16T16:39:33.266216",
     "status": "completed"
    },
    "tags": []
   },
   "outputs": [],
   "source": [
    "pt.fillna(0,inplace=True)"
   ]
  },
  {
   "cell_type": "code",
   "execution_count": 24,
   "id": "62fc5cfa",
   "metadata": {
    "execution": {
     "iopub.execute_input": "2023-03-16T16:39:33.307415Z",
     "iopub.status.busy": "2023-03-16T16:39:33.306616Z",
     "iopub.status.idle": "2023-03-16T16:39:33.343725Z",
     "shell.execute_reply": "2023-03-16T16:39:33.342688Z"
    },
    "papermill": {
     "duration": 0.051199,
     "end_time": "2023-03-16T16:39:33.346682",
     "exception": false,
     "start_time": "2023-03-16T16:39:33.295483",
     "status": "completed"
    },
    "tags": []
   },
   "outputs": [
    {
     "data": {
      "text/html": [
       "<div>\n",
       "<style scoped>\n",
       "    .dataframe tbody tr th:only-of-type {\n",
       "        vertical-align: middle;\n",
       "    }\n",
       "\n",
       "    .dataframe tbody tr th {\n",
       "        vertical-align: top;\n",
       "    }\n",
       "\n",
       "    .dataframe thead th {\n",
       "        text-align: right;\n",
       "    }\n",
       "</style>\n",
       "<table border=\"1\" class=\"dataframe\">\n",
       "  <thead>\n",
       "    <tr style=\"text-align: right;\">\n",
       "      <th>title</th>\n",
       "      <th>1984</th>\n",
       "      <th>A Christmas Carol (Classic Fiction)</th>\n",
       "      <th>A Connecticut Yankee in King Arthur's Court</th>\n",
       "      <th>A Farewell to Arms</th>\n",
       "      <th>A Fine Balance</th>\n",
       "      <th>A Journey to the Center of the Earth</th>\n",
       "      <th>A Portrait of the Artist As a Young Man</th>\n",
       "      <th>A Portrait of the Artist as a Young Man</th>\n",
       "      <th>A Princess of Mars</th>\n",
       "      <th>A Tree Grows in Brooklyn</th>\n",
       "      <th>...</th>\n",
       "      <th>Ulysses,</th>\n",
       "      <th>Ulysses.</th>\n",
       "      <th>Wuthering Heights</th>\n",
       "      <th>Wuthering Heights (College classics in English)</th>\n",
       "      <th>Wuthering Heights (New Windmill)</th>\n",
       "      <th>Wuthering Heights (Penguin Audiobooks)</th>\n",
       "      <th>Wuthering Heights (Riverside editions)</th>\n",
       "      <th>Wuthering Heights (Signet classics)</th>\n",
       "      <th>Wuthering Heights (The Franklin Library)</th>\n",
       "      <th>Wuthering Heights.</th>\n",
       "    </tr>\n",
       "    <tr>\n",
       "      <th>user_id</th>\n",
       "      <th></th>\n",
       "      <th></th>\n",
       "      <th></th>\n",
       "      <th></th>\n",
       "      <th></th>\n",
       "      <th></th>\n",
       "      <th></th>\n",
       "      <th></th>\n",
       "      <th></th>\n",
       "      <th></th>\n",
       "      <th></th>\n",
       "      <th></th>\n",
       "      <th></th>\n",
       "      <th></th>\n",
       "      <th></th>\n",
       "      <th></th>\n",
       "      <th></th>\n",
       "      <th></th>\n",
       "      <th></th>\n",
       "      <th></th>\n",
       "      <th></th>\n",
       "    </tr>\n",
       "  </thead>\n",
       "  <tbody>\n",
       "    <tr>\n",
       "      <th>A106016KSI0YQ</th>\n",
       "      <td>0.0</td>\n",
       "      <td>0.0</td>\n",
       "      <td>0.0</td>\n",
       "      <td>0.0</td>\n",
       "      <td>0.0</td>\n",
       "      <td>0.0</td>\n",
       "      <td>0.0</td>\n",
       "      <td>0.0</td>\n",
       "      <td>0.0</td>\n",
       "      <td>0.0</td>\n",
       "      <td>...</td>\n",
       "      <td>0.0</td>\n",
       "      <td>0.0</td>\n",
       "      <td>0.0</td>\n",
       "      <td>0.0</td>\n",
       "      <td>0.0</td>\n",
       "      <td>0.0</td>\n",
       "      <td>0.0</td>\n",
       "      <td>0.0</td>\n",
       "      <td>0.0</td>\n",
       "      <td>0.0</td>\n",
       "    </tr>\n",
       "    <tr>\n",
       "      <th>A10T0OW97SFBB</th>\n",
       "      <td>0.0</td>\n",
       "      <td>0.0</td>\n",
       "      <td>0.0</td>\n",
       "      <td>0.0</td>\n",
       "      <td>0.0</td>\n",
       "      <td>0.0</td>\n",
       "      <td>0.0</td>\n",
       "      <td>0.0</td>\n",
       "      <td>0.0</td>\n",
       "      <td>0.0</td>\n",
       "      <td>...</td>\n",
       "      <td>0.0</td>\n",
       "      <td>0.0</td>\n",
       "      <td>4.0</td>\n",
       "      <td>4.0</td>\n",
       "      <td>4.0</td>\n",
       "      <td>4.0</td>\n",
       "      <td>4.0</td>\n",
       "      <td>4.0</td>\n",
       "      <td>4.0</td>\n",
       "      <td>4.0</td>\n",
       "    </tr>\n",
       "    <tr>\n",
       "      <th>A114YQ7ZT9Y1W5</th>\n",
       "      <td>0.0</td>\n",
       "      <td>0.0</td>\n",
       "      <td>0.0</td>\n",
       "      <td>0.0</td>\n",
       "      <td>0.0</td>\n",
       "      <td>0.0</td>\n",
       "      <td>0.0</td>\n",
       "      <td>0.0</td>\n",
       "      <td>0.0</td>\n",
       "      <td>0.0</td>\n",
       "      <td>...</td>\n",
       "      <td>5.0</td>\n",
       "      <td>5.0</td>\n",
       "      <td>0.0</td>\n",
       "      <td>0.0</td>\n",
       "      <td>0.0</td>\n",
       "      <td>0.0</td>\n",
       "      <td>0.0</td>\n",
       "      <td>0.0</td>\n",
       "      <td>0.0</td>\n",
       "      <td>0.0</td>\n",
       "    </tr>\n",
       "    <tr>\n",
       "      <th>A11DCTGTPS7M0C</th>\n",
       "      <td>0.0</td>\n",
       "      <td>0.0</td>\n",
       "      <td>0.0</td>\n",
       "      <td>4.0</td>\n",
       "      <td>0.0</td>\n",
       "      <td>0.0</td>\n",
       "      <td>0.0</td>\n",
       "      <td>0.0</td>\n",
       "      <td>0.0</td>\n",
       "      <td>0.0</td>\n",
       "      <td>...</td>\n",
       "      <td>5.0</td>\n",
       "      <td>5.0</td>\n",
       "      <td>0.0</td>\n",
       "      <td>0.0</td>\n",
       "      <td>0.0</td>\n",
       "      <td>0.0</td>\n",
       "      <td>0.0</td>\n",
       "      <td>0.0</td>\n",
       "      <td>0.0</td>\n",
       "      <td>0.0</td>\n",
       "    </tr>\n",
       "    <tr>\n",
       "      <th>A126KX6FVI4T66</th>\n",
       "      <td>0.0</td>\n",
       "      <td>0.0</td>\n",
       "      <td>0.0</td>\n",
       "      <td>0.0</td>\n",
       "      <td>0.0</td>\n",
       "      <td>0.0</td>\n",
       "      <td>0.0</td>\n",
       "      <td>0.0</td>\n",
       "      <td>0.0</td>\n",
       "      <td>0.0</td>\n",
       "      <td>...</td>\n",
       "      <td>0.0</td>\n",
       "      <td>0.0</td>\n",
       "      <td>0.0</td>\n",
       "      <td>0.0</td>\n",
       "      <td>0.0</td>\n",
       "      <td>0.0</td>\n",
       "      <td>0.0</td>\n",
       "      <td>0.0</td>\n",
       "      <td>0.0</td>\n",
       "      <td>0.0</td>\n",
       "    </tr>\n",
       "    <tr>\n",
       "      <th>...</th>\n",
       "      <td>...</td>\n",
       "      <td>...</td>\n",
       "      <td>...</td>\n",
       "      <td>...</td>\n",
       "      <td>...</td>\n",
       "      <td>...</td>\n",
       "      <td>...</td>\n",
       "      <td>...</td>\n",
       "      <td>...</td>\n",
       "      <td>...</td>\n",
       "      <td>...</td>\n",
       "      <td>...</td>\n",
       "      <td>...</td>\n",
       "      <td>...</td>\n",
       "      <td>...</td>\n",
       "      <td>...</td>\n",
       "      <td>...</td>\n",
       "      <td>...</td>\n",
       "      <td>...</td>\n",
       "      <td>...</td>\n",
       "      <td>...</td>\n",
       "    </tr>\n",
       "    <tr>\n",
       "      <th>AV74NYPSKHXBU</th>\n",
       "      <td>4.0</td>\n",
       "      <td>0.0</td>\n",
       "      <td>5.0</td>\n",
       "      <td>0.0</td>\n",
       "      <td>0.0</td>\n",
       "      <td>0.0</td>\n",
       "      <td>0.0</td>\n",
       "      <td>0.0</td>\n",
       "      <td>0.0</td>\n",
       "      <td>5.0</td>\n",
       "      <td>...</td>\n",
       "      <td>0.0</td>\n",
       "      <td>0.0</td>\n",
       "      <td>5.0</td>\n",
       "      <td>5.0</td>\n",
       "      <td>5.0</td>\n",
       "      <td>5.0</td>\n",
       "      <td>5.0</td>\n",
       "      <td>5.0</td>\n",
       "      <td>5.0</td>\n",
       "      <td>5.0</td>\n",
       "    </tr>\n",
       "    <tr>\n",
       "      <th>AWLFVCT9128JV</th>\n",
       "      <td>5.0</td>\n",
       "      <td>0.0</td>\n",
       "      <td>0.0</td>\n",
       "      <td>0.0</td>\n",
       "      <td>0.0</td>\n",
       "      <td>0.0</td>\n",
       "      <td>0.0</td>\n",
       "      <td>0.0</td>\n",
       "      <td>4.0</td>\n",
       "      <td>0.0</td>\n",
       "      <td>...</td>\n",
       "      <td>0.0</td>\n",
       "      <td>0.0</td>\n",
       "      <td>0.0</td>\n",
       "      <td>0.0</td>\n",
       "      <td>0.0</td>\n",
       "      <td>0.0</td>\n",
       "      <td>0.0</td>\n",
       "      <td>0.0</td>\n",
       "      <td>0.0</td>\n",
       "      <td>0.0</td>\n",
       "    </tr>\n",
       "    <tr>\n",
       "      <th>AX54G5AL870Q8</th>\n",
       "      <td>0.0</td>\n",
       "      <td>0.0</td>\n",
       "      <td>0.0</td>\n",
       "      <td>0.0</td>\n",
       "      <td>5.0</td>\n",
       "      <td>0.0</td>\n",
       "      <td>0.0</td>\n",
       "      <td>0.0</td>\n",
       "      <td>0.0</td>\n",
       "      <td>0.0</td>\n",
       "      <td>...</td>\n",
       "      <td>0.0</td>\n",
       "      <td>0.0</td>\n",
       "      <td>0.0</td>\n",
       "      <td>0.0</td>\n",
       "      <td>0.0</td>\n",
       "      <td>0.0</td>\n",
       "      <td>0.0</td>\n",
       "      <td>0.0</td>\n",
       "      <td>0.0</td>\n",
       "      <td>0.0</td>\n",
       "    </tr>\n",
       "    <tr>\n",
       "      <th>AXSH6O4OP5L4M</th>\n",
       "      <td>0.0</td>\n",
       "      <td>0.0</td>\n",
       "      <td>0.0</td>\n",
       "      <td>0.0</td>\n",
       "      <td>0.0</td>\n",
       "      <td>0.0</td>\n",
       "      <td>0.0</td>\n",
       "      <td>0.0</td>\n",
       "      <td>0.0</td>\n",
       "      <td>0.0</td>\n",
       "      <td>...</td>\n",
       "      <td>0.0</td>\n",
       "      <td>0.0</td>\n",
       "      <td>0.0</td>\n",
       "      <td>0.0</td>\n",
       "      <td>0.0</td>\n",
       "      <td>0.0</td>\n",
       "      <td>0.0</td>\n",
       "      <td>0.0</td>\n",
       "      <td>0.0</td>\n",
       "      <td>0.0</td>\n",
       "    </tr>\n",
       "    <tr>\n",
       "      <th>AYT4FJYVCHYLE</th>\n",
       "      <td>0.0</td>\n",
       "      <td>0.0</td>\n",
       "      <td>0.0</td>\n",
       "      <td>0.0</td>\n",
       "      <td>4.0</td>\n",
       "      <td>0.0</td>\n",
       "      <td>0.0</td>\n",
       "      <td>0.0</td>\n",
       "      <td>0.0</td>\n",
       "      <td>0.0</td>\n",
       "      <td>...</td>\n",
       "      <td>0.0</td>\n",
       "      <td>0.0</td>\n",
       "      <td>0.0</td>\n",
       "      <td>0.0</td>\n",
       "      <td>0.0</td>\n",
       "      <td>0.0</td>\n",
       "      <td>0.0</td>\n",
       "      <td>0.0</td>\n",
       "      <td>0.0</td>\n",
       "      <td>0.0</td>\n",
       "    </tr>\n",
       "  </tbody>\n",
       "</table>\n",
       "<p>298 rows × 176 columns</p>\n",
       "</div>"
      ],
      "text/plain": [
       "title           1984  A Christmas Carol (Classic Fiction)  \\\n",
       "user_id                                                     \n",
       "A106016KSI0YQ    0.0                                  0.0   \n",
       "A10T0OW97SFBB    0.0                                  0.0   \n",
       "A114YQ7ZT9Y1W5   0.0                                  0.0   \n",
       "A11DCTGTPS7M0C   0.0                                  0.0   \n",
       "A126KX6FVI4T66   0.0                                  0.0   \n",
       "...              ...                                  ...   \n",
       "AV74NYPSKHXBU    4.0                                  0.0   \n",
       "AWLFVCT9128JV    5.0                                  0.0   \n",
       "AX54G5AL870Q8    0.0                                  0.0   \n",
       "AXSH6O4OP5L4M    0.0                                  0.0   \n",
       "AYT4FJYVCHYLE    0.0                                  0.0   \n",
       "\n",
       "title           A Connecticut Yankee in King Arthur's Court  \\\n",
       "user_id                                                       \n",
       "A106016KSI0YQ                                           0.0   \n",
       "A10T0OW97SFBB                                           0.0   \n",
       "A114YQ7ZT9Y1W5                                          0.0   \n",
       "A11DCTGTPS7M0C                                          0.0   \n",
       "A126KX6FVI4T66                                          0.0   \n",
       "...                                                     ...   \n",
       "AV74NYPSKHXBU                                           5.0   \n",
       "AWLFVCT9128JV                                           0.0   \n",
       "AX54G5AL870Q8                                           0.0   \n",
       "AXSH6O4OP5L4M                                           0.0   \n",
       "AYT4FJYVCHYLE                                           0.0   \n",
       "\n",
       "title           A Farewell to Arms  A Fine Balance  \\\n",
       "user_id                                              \n",
       "A106016KSI0YQ                  0.0             0.0   \n",
       "A10T0OW97SFBB                  0.0             0.0   \n",
       "A114YQ7ZT9Y1W5                 0.0             0.0   \n",
       "A11DCTGTPS7M0C                 4.0             0.0   \n",
       "A126KX6FVI4T66                 0.0             0.0   \n",
       "...                            ...             ...   \n",
       "AV74NYPSKHXBU                  0.0             0.0   \n",
       "AWLFVCT9128JV                  0.0             0.0   \n",
       "AX54G5AL870Q8                  0.0             5.0   \n",
       "AXSH6O4OP5L4M                  0.0             0.0   \n",
       "AYT4FJYVCHYLE                  0.0             4.0   \n",
       "\n",
       "title           A Journey to the Center of the Earth  \\\n",
       "user_id                                                \n",
       "A106016KSI0YQ                                    0.0   \n",
       "A10T0OW97SFBB                                    0.0   \n",
       "A114YQ7ZT9Y1W5                                   0.0   \n",
       "A11DCTGTPS7M0C                                   0.0   \n",
       "A126KX6FVI4T66                                   0.0   \n",
       "...                                              ...   \n",
       "AV74NYPSKHXBU                                    0.0   \n",
       "AWLFVCT9128JV                                    0.0   \n",
       "AX54G5AL870Q8                                    0.0   \n",
       "AXSH6O4OP5L4M                                    0.0   \n",
       "AYT4FJYVCHYLE                                    0.0   \n",
       "\n",
       "title           A Portrait of the Artist As a Young Man  \\\n",
       "user_id                                                   \n",
       "A106016KSI0YQ                                       0.0   \n",
       "A10T0OW97SFBB                                       0.0   \n",
       "A114YQ7ZT9Y1W5                                      0.0   \n",
       "A11DCTGTPS7M0C                                      0.0   \n",
       "A126KX6FVI4T66                                      0.0   \n",
       "...                                                 ...   \n",
       "AV74NYPSKHXBU                                       0.0   \n",
       "AWLFVCT9128JV                                       0.0   \n",
       "AX54G5AL870Q8                                       0.0   \n",
       "AXSH6O4OP5L4M                                       0.0   \n",
       "AYT4FJYVCHYLE                                       0.0   \n",
       "\n",
       "title           A Portrait of the Artist as a Young Man  A Princess of Mars  \\\n",
       "user_id                                                                       \n",
       "A106016KSI0YQ                                       0.0                 0.0   \n",
       "A10T0OW97SFBB                                       0.0                 0.0   \n",
       "A114YQ7ZT9Y1W5                                      0.0                 0.0   \n",
       "A11DCTGTPS7M0C                                      0.0                 0.0   \n",
       "A126KX6FVI4T66                                      0.0                 0.0   \n",
       "...                                                 ...                 ...   \n",
       "AV74NYPSKHXBU                                       0.0                 0.0   \n",
       "AWLFVCT9128JV                                       0.0                 4.0   \n",
       "AX54G5AL870Q8                                       0.0                 0.0   \n",
       "AXSH6O4OP5L4M                                       0.0                 0.0   \n",
       "AYT4FJYVCHYLE                                       0.0                 0.0   \n",
       "\n",
       "title           A Tree Grows in Brooklyn  ...  Ulysses,  Ulysses.  \\\n",
       "user_id                                   ...                       \n",
       "A106016KSI0YQ                        0.0  ...       0.0       0.0   \n",
       "A10T0OW97SFBB                        0.0  ...       0.0       0.0   \n",
       "A114YQ7ZT9Y1W5                       0.0  ...       5.0       5.0   \n",
       "A11DCTGTPS7M0C                       0.0  ...       5.0       5.0   \n",
       "A126KX6FVI4T66                       0.0  ...       0.0       0.0   \n",
       "...                                  ...  ...       ...       ...   \n",
       "AV74NYPSKHXBU                        5.0  ...       0.0       0.0   \n",
       "AWLFVCT9128JV                        0.0  ...       0.0       0.0   \n",
       "AX54G5AL870Q8                        0.0  ...       0.0       0.0   \n",
       "AXSH6O4OP5L4M                        0.0  ...       0.0       0.0   \n",
       "AYT4FJYVCHYLE                        0.0  ...       0.0       0.0   \n",
       "\n",
       "title           Wuthering Heights  \\\n",
       "user_id                             \n",
       "A106016KSI0YQ                 0.0   \n",
       "A10T0OW97SFBB                 4.0   \n",
       "A114YQ7ZT9Y1W5                0.0   \n",
       "A11DCTGTPS7M0C                0.0   \n",
       "A126KX6FVI4T66                0.0   \n",
       "...                           ...   \n",
       "AV74NYPSKHXBU                 5.0   \n",
       "AWLFVCT9128JV                 0.0   \n",
       "AX54G5AL870Q8                 0.0   \n",
       "AXSH6O4OP5L4M                 0.0   \n",
       "AYT4FJYVCHYLE                 0.0   \n",
       "\n",
       "title           Wuthering Heights (College classics in English)  \\\n",
       "user_id                                                           \n",
       "A106016KSI0YQ                                               0.0   \n",
       "A10T0OW97SFBB                                               4.0   \n",
       "A114YQ7ZT9Y1W5                                              0.0   \n",
       "A11DCTGTPS7M0C                                              0.0   \n",
       "A126KX6FVI4T66                                              0.0   \n",
       "...                                                         ...   \n",
       "AV74NYPSKHXBU                                               5.0   \n",
       "AWLFVCT9128JV                                               0.0   \n",
       "AX54G5AL870Q8                                               0.0   \n",
       "AXSH6O4OP5L4M                                               0.0   \n",
       "AYT4FJYVCHYLE                                               0.0   \n",
       "\n",
       "title           Wuthering Heights (New Windmill)  \\\n",
       "user_id                                            \n",
       "A106016KSI0YQ                                0.0   \n",
       "A10T0OW97SFBB                                4.0   \n",
       "A114YQ7ZT9Y1W5                               0.0   \n",
       "A11DCTGTPS7M0C                               0.0   \n",
       "A126KX6FVI4T66                               0.0   \n",
       "...                                          ...   \n",
       "AV74NYPSKHXBU                                5.0   \n",
       "AWLFVCT9128JV                                0.0   \n",
       "AX54G5AL870Q8                                0.0   \n",
       "AXSH6O4OP5L4M                                0.0   \n",
       "AYT4FJYVCHYLE                                0.0   \n",
       "\n",
       "title           Wuthering Heights (Penguin Audiobooks)  \\\n",
       "user_id                                                  \n",
       "A106016KSI0YQ                                      0.0   \n",
       "A10T0OW97SFBB                                      4.0   \n",
       "A114YQ7ZT9Y1W5                                     0.0   \n",
       "A11DCTGTPS7M0C                                     0.0   \n",
       "A126KX6FVI4T66                                     0.0   \n",
       "...                                                ...   \n",
       "AV74NYPSKHXBU                                      5.0   \n",
       "AWLFVCT9128JV                                      0.0   \n",
       "AX54G5AL870Q8                                      0.0   \n",
       "AXSH6O4OP5L4M                                      0.0   \n",
       "AYT4FJYVCHYLE                                      0.0   \n",
       "\n",
       "title           Wuthering Heights (Riverside editions)  \\\n",
       "user_id                                                  \n",
       "A106016KSI0YQ                                      0.0   \n",
       "A10T0OW97SFBB                                      4.0   \n",
       "A114YQ7ZT9Y1W5                                     0.0   \n",
       "A11DCTGTPS7M0C                                     0.0   \n",
       "A126KX6FVI4T66                                     0.0   \n",
       "...                                                ...   \n",
       "AV74NYPSKHXBU                                      5.0   \n",
       "AWLFVCT9128JV                                      0.0   \n",
       "AX54G5AL870Q8                                      0.0   \n",
       "AXSH6O4OP5L4M                                      0.0   \n",
       "AYT4FJYVCHYLE                                      0.0   \n",
       "\n",
       "title           Wuthering Heights (Signet classics)  \\\n",
       "user_id                                               \n",
       "A106016KSI0YQ                                   0.0   \n",
       "A10T0OW97SFBB                                   4.0   \n",
       "A114YQ7ZT9Y1W5                                  0.0   \n",
       "A11DCTGTPS7M0C                                  0.0   \n",
       "A126KX6FVI4T66                                  0.0   \n",
       "...                                             ...   \n",
       "AV74NYPSKHXBU                                   5.0   \n",
       "AWLFVCT9128JV                                   0.0   \n",
       "AX54G5AL870Q8                                   0.0   \n",
       "AXSH6O4OP5L4M                                   0.0   \n",
       "AYT4FJYVCHYLE                                   0.0   \n",
       "\n",
       "title           Wuthering Heights (The Franklin Library)  Wuthering Heights.  \n",
       "user_id                                                                       \n",
       "A106016KSI0YQ                                        0.0                 0.0  \n",
       "A10T0OW97SFBB                                        4.0                 4.0  \n",
       "A114YQ7ZT9Y1W5                                       0.0                 0.0  \n",
       "A11DCTGTPS7M0C                                       0.0                 0.0  \n",
       "A126KX6FVI4T66                                       0.0                 0.0  \n",
       "...                                                  ...                 ...  \n",
       "AV74NYPSKHXBU                                        5.0                 5.0  \n",
       "AWLFVCT9128JV                                        0.0                 0.0  \n",
       "AX54G5AL870Q8                                        0.0                 0.0  \n",
       "AXSH6O4OP5L4M                                        0.0                 0.0  \n",
       "AYT4FJYVCHYLE                                        0.0                 0.0  \n",
       "\n",
       "[298 rows x 176 columns]"
      ]
     },
     "execution_count": 24,
     "metadata": {},
     "output_type": "execute_result"
    }
   ],
   "source": [
    "pt"
   ]
  },
  {
   "cell_type": "markdown",
   "id": "eb5dc4d4",
   "metadata": {
    "papermill": {
     "duration": 0.011174,
     "end_time": "2023-03-16T16:39:33.370881",
     "exception": false,
     "start_time": "2023-03-16T16:39:33.359707",
     "status": "completed"
    },
    "tags": []
   },
   "source": [
    "### Finding the Simlarities among the users"
   ]
  },
  {
   "cell_type": "code",
   "execution_count": 25,
   "id": "fc48996b",
   "metadata": {
    "execution": {
     "iopub.execute_input": "2023-03-16T16:39:33.395170Z",
     "iopub.status.busy": "2023-03-16T16:39:33.394222Z",
     "iopub.status.idle": "2023-03-16T16:39:34.293608Z",
     "shell.execute_reply": "2023-03-16T16:39:34.292531Z"
    },
    "papermill": {
     "duration": 0.914203,
     "end_time": "2023-03-16T16:39:34.296247",
     "exception": false,
     "start_time": "2023-03-16T16:39:33.382044",
     "status": "completed"
    },
    "tags": []
   },
   "outputs": [],
   "source": [
    "from sklearn.metrics.pairwise import cosine_similarity"
   ]
  },
  {
   "cell_type": "code",
   "execution_count": 26,
   "id": "5c2f126c",
   "metadata": {
    "execution": {
     "iopub.execute_input": "2023-03-16T16:39:34.321584Z",
     "iopub.status.busy": "2023-03-16T16:39:34.321241Z",
     "iopub.status.idle": "2023-03-16T16:39:34.331993Z",
     "shell.execute_reply": "2023-03-16T16:39:34.330689Z"
    },
    "papermill": {
     "duration": 0.025699,
     "end_time": "2023-03-16T16:39:34.334278",
     "exception": false,
     "start_time": "2023-03-16T16:39:34.308579",
     "status": "completed"
    },
    "tags": []
   },
   "outputs": [],
   "source": [
    "similarity_scores = cosine_similarity(pt)"
   ]
  },
  {
   "cell_type": "code",
   "execution_count": 27,
   "id": "d30b4188",
   "metadata": {
    "execution": {
     "iopub.execute_input": "2023-03-16T16:39:34.395056Z",
     "iopub.status.busy": "2023-03-16T16:39:34.394538Z",
     "iopub.status.idle": "2023-03-16T16:39:34.404145Z",
     "shell.execute_reply": "2023-03-16T16:39:34.403054Z"
    },
    "papermill": {
     "duration": 0.0447,
     "end_time": "2023-03-16T16:39:34.408528",
     "exception": false,
     "start_time": "2023-03-16T16:39:34.363828",
     "status": "completed"
    },
    "tags": []
   },
   "outputs": [
    {
     "data": {
      "text/plain": [
       "array([[1.        , 0.        , 0.        , ..., 0.        , 0.        ,\n",
       "        0.        ],\n",
       "       [0.        , 1.        , 0.07151985, ..., 0.        , 0.        ,\n",
       "        0.        ],\n",
       "       [0.        , 0.07151985, 1.        , ..., 0.        , 0.        ,\n",
       "        0.        ],\n",
       "       ...,\n",
       "       [0.        , 0.        , 0.        , ..., 1.        , 0.22086305,\n",
       "        0.18586518],\n",
       "       [0.        , 0.        , 0.        , ..., 0.22086305, 1.        ,\n",
       "        0.42077019],\n",
       "       [0.        , 0.        , 0.        , ..., 0.18586518, 0.42077019,\n",
       "        1.        ]])"
      ]
     },
     "execution_count": 27,
     "metadata": {},
     "output_type": "execute_result"
    }
   ],
   "source": [
    "similarity_scores\n"
   ]
  },
  {
   "cell_type": "code",
   "execution_count": 28,
   "id": "a4227d4e",
   "metadata": {
    "execution": {
     "iopub.execute_input": "2023-03-16T16:39:34.466385Z",
     "iopub.status.busy": "2023-03-16T16:39:34.466072Z",
     "iopub.status.idle": "2023-03-16T16:39:34.472137Z",
     "shell.execute_reply": "2023-03-16T16:39:34.471111Z"
    },
    "papermill": {
     "duration": 0.036086,
     "end_time": "2023-03-16T16:39:34.474456",
     "exception": false,
     "start_time": "2023-03-16T16:39:34.438370",
     "status": "completed"
    },
    "tags": []
   },
   "outputs": [
    {
     "data": {
      "text/plain": [
       "(298, 298)"
      ]
     },
     "execution_count": 28,
     "metadata": {},
     "output_type": "execute_result"
    }
   ],
   "source": [
    "similarity_scores.shape"
   ]
  },
  {
   "cell_type": "code",
   "execution_count": 29,
   "id": "944dd4cf",
   "metadata": {
    "execution": {
     "iopub.execute_input": "2023-03-16T16:39:34.499432Z",
     "iopub.status.busy": "2023-03-16T16:39:34.498598Z",
     "iopub.status.idle": "2023-03-16T16:39:34.506035Z",
     "shell.execute_reply": "2023-03-16T16:39:34.504894Z"
    },
    "papermill": {
     "duration": 0.022527,
     "end_time": "2023-03-16T16:39:34.508438",
     "exception": false,
     "start_time": "2023-03-16T16:39:34.485911",
     "status": "completed"
    },
    "tags": []
   },
   "outputs": [
    {
     "data": {
      "text/plain": [
       "0"
      ]
     },
     "execution_count": 29,
     "metadata": {},
     "output_type": "execute_result"
    }
   ],
   "source": [
    "np.where(pt.index=='A106016KSI0YQ')[0][0]"
   ]
  },
  {
   "cell_type": "code",
   "execution_count": 30,
   "id": "d6afdaf5",
   "metadata": {
    "execution": {
     "iopub.execute_input": "2023-03-16T16:39:34.534870Z",
     "iopub.status.busy": "2023-03-16T16:39:34.534314Z",
     "iopub.status.idle": "2023-03-16T16:39:34.541787Z",
     "shell.execute_reply": "2023-03-16T16:39:34.540764Z"
    },
    "papermill": {
     "duration": 0.023433,
     "end_time": "2023-03-16T16:39:34.543779",
     "exception": false,
     "start_time": "2023-03-16T16:39:34.520346",
     "status": "completed"
    },
    "tags": []
   },
   "outputs": [
    {
     "data": {
      "text/plain": [
       "[(290, 1.0),\n",
       " (57, 0.37796447300922725),\n",
       " (5, 0.25683274846875703),\n",
       " (138, 0.24514516892273006),\n",
       " (212, 0.23211917272131485)]"
      ]
     },
     "execution_count": 30,
     "metadata": {},
     "output_type": "execute_result"
    }
   ],
   "source": [
    "sorted(list(enumerate(similarity_scores[0])),key=lambda x:x[1],reverse=True)[1:6]"
   ]
  },
  {
   "cell_type": "code",
   "execution_count": 31,
   "id": "49108ad1",
   "metadata": {
    "execution": {
     "iopub.execute_input": "2023-03-16T16:39:34.568791Z",
     "iopub.status.busy": "2023-03-16T16:39:34.568519Z",
     "iopub.status.idle": "2023-03-16T16:39:34.574494Z",
     "shell.execute_reply": "2023-03-16T16:39:34.573463Z"
    },
    "papermill": {
     "duration": 0.02108,
     "end_time": "2023-03-16T16:39:34.576704",
     "exception": false,
     "start_time": "2023-03-16T16:39:34.555624",
     "status": "completed"
    },
    "tags": []
   },
   "outputs": [
    {
     "data": {
      "text/plain": [
       "'AUHG8KSHI529U'"
      ]
     },
     "execution_count": 31,
     "metadata": {},
     "output_type": "execute_result"
    }
   ],
   "source": [
    "pt.index[290]"
   ]
  },
  {
   "cell_type": "code",
   "execution_count": 32,
   "id": "64ab17ff",
   "metadata": {
    "execution": {
     "iopub.execute_input": "2023-03-16T16:39:34.601771Z",
     "iopub.status.busy": "2023-03-16T16:39:34.601489Z",
     "iopub.status.idle": "2023-03-16T16:39:34.779177Z",
     "shell.execute_reply": "2023-03-16T16:39:34.778238Z"
    },
    "papermill": {
     "duration": 0.192558,
     "end_time": "2023-03-16T16:39:34.781298",
     "exception": false,
     "start_time": "2023-03-16T16:39:34.588740",
     "status": "completed"
    },
    "tags": []
   },
   "outputs": [
    {
     "data": {
      "text/plain": [
       "(298, 4)"
      ]
     },
     "execution_count": 32,
     "metadata": {},
     "output_type": "execute_result"
    }
   ],
   "source": [
    "df = ratings[ratings['user_id'] == pt.index[290]].sort_values(by='rating',ascending=False)\n",
    "# lt = list(df[df[\"review/score\"].isin([4.0,5.0])].head()['Title'])\n",
    "# lt\n",
    "df.shape"
   ]
  },
  {
   "cell_type": "code",
   "execution_count": 33,
   "id": "80aa2c6b",
   "metadata": {
    "execution": {
     "iopub.execute_input": "2023-03-16T16:39:34.807734Z",
     "iopub.status.busy": "2023-03-16T16:39:34.806005Z",
     "iopub.status.idle": "2023-03-16T16:39:34.989397Z",
     "shell.execute_reply": "2023-03-16T16:39:34.988384Z"
    },
    "papermill": {
     "duration": 0.198271,
     "end_time": "2023-03-16T16:39:34.991768",
     "exception": false,
     "start_time": "2023-03-16T16:39:34.793497",
     "status": "completed"
    },
    "tags": []
   },
   "outputs": [],
   "source": [
    "user_books_lst = list(ratings[ratings['user_id'] == pt.index[0]]['title'])\n",
    "df = df[~df['title'].isin(user_books_lst)]\n",
    "df = df[df['rating'].isin([4.0,5.0])]\n",
    "lst = list(df.head()['title'])"
   ]
  },
  {
   "cell_type": "code",
   "execution_count": 34,
   "id": "eae339a4",
   "metadata": {
    "execution": {
     "iopub.execute_input": "2023-03-16T16:39:35.018525Z",
     "iopub.status.busy": "2023-03-16T16:39:35.018176Z",
     "iopub.status.idle": "2023-03-16T16:39:35.024051Z",
     "shell.execute_reply": "2023-03-16T16:39:35.023121Z"
    },
    "papermill": {
     "duration": 0.021567,
     "end_time": "2023-03-16T16:39:35.026323",
     "exception": false,
     "start_time": "2023-03-16T16:39:35.004756",
     "status": "completed"
    },
    "tags": []
   },
   "outputs": [],
   "source": [
    "data = []\n",
    "data.extend(lst)"
   ]
  },
  {
   "cell_type": "code",
   "execution_count": 35,
   "id": "695ce468",
   "metadata": {
    "execution": {
     "iopub.execute_input": "2023-03-16T16:39:35.051899Z",
     "iopub.status.busy": "2023-03-16T16:39:35.050982Z",
     "iopub.status.idle": "2023-03-16T16:39:35.058274Z",
     "shell.execute_reply": "2023-03-16T16:39:35.057152Z"
    },
    "papermill": {
     "duration": 0.022412,
     "end_time": "2023-03-16T16:39:35.060519",
     "exception": false,
     "start_time": "2023-03-16T16:39:35.038107",
     "status": "completed"
    },
    "tags": []
   },
   "outputs": [
    {
     "data": {
      "text/plain": [
       "['Consilience (University Press Audiobooks)',\n",
       " 'The New Americans: How the Melting Pot Can Work Again',\n",
       " 'Beethoven (Oxford paperbacks)',\n",
       " 'Counterpoint',\n",
       " \"Shakespeare's Macbeth; (Macmillan's English classics)\",\n",
       " 'Jungle Book']"
      ]
     },
     "execution_count": 35,
     "metadata": {},
     "output_type": "execute_result"
    }
   ],
   "source": [
    "data.extend(['Jungle Book'])\n",
    "data"
   ]
  },
  {
   "cell_type": "markdown",
   "id": "dd9d378c",
   "metadata": {
    "papermill": {
     "duration": 0.012157,
     "end_time": "2023-03-16T16:39:35.085790",
     "exception": false,
     "start_time": "2023-03-16T16:39:35.073633",
     "status": "completed"
    },
    "tags": []
   },
   "source": [
    "### Function to recommend books to a user"
   ]
  },
  {
   "cell_type": "code",
   "execution_count": 36,
   "id": "4fed5fc8",
   "metadata": {
    "execution": {
     "iopub.execute_input": "2023-03-16T16:39:35.112775Z",
     "iopub.status.busy": "2023-03-16T16:39:35.112179Z",
     "iopub.status.idle": "2023-03-16T16:39:35.121935Z",
     "shell.execute_reply": "2023-03-16T16:39:35.120980Z"
    },
    "papermill": {
     "duration": 0.026211,
     "end_time": "2023-03-16T16:39:35.124194",
     "exception": false,
     "start_time": "2023-03-16T16:39:35.097983",
     "status": "completed"
    },
    "tags": []
   },
   "outputs": [],
   "source": [
    "def recommend(user_id):\n",
    "    # index fetch\n",
    "    index = np.where(pt.index==user_id)[0][0]\n",
    "    similar_items = sorted(list(enumerate(similarity_scores[index])),key=lambda x:x[1],reverse=True)[1:4]\n",
    "    \n",
    "    data = []\n",
    "    for i in similar_items:\n",
    "        df = ratings[ratings['user_id'] == pt.index[i[0]]].sort_values(by='rating',ascending=False)\n",
    "        user_books_lst = list(ratings[ratings['user_id'] == pt.index[index]]['title'])\n",
    "        df = df[~df['title'].isin(user_books_lst)]\n",
    "        df = df[df['rating'].isin([4.0,5.0])]\n",
    "        data.extend(list(df.head()['title']))\n",
    "        data = [*set(data)]\n",
    "    return data"
   ]
  },
  {
   "cell_type": "code",
   "execution_count": 37,
   "id": "f85e373e",
   "metadata": {
    "execution": {
     "iopub.execute_input": "2023-03-16T16:39:35.152545Z",
     "iopub.status.busy": "2023-03-16T16:39:35.151638Z",
     "iopub.status.idle": "2023-03-16T16:39:36.235469Z",
     "shell.execute_reply": "2023-03-16T16:39:36.234285Z"
    },
    "papermill": {
     "duration": 1.100702,
     "end_time": "2023-03-16T16:39:36.237914",
     "exception": false,
     "start_time": "2023-03-16T16:39:35.137212",
     "status": "completed"
    },
    "tags": []
   },
   "outputs": [
    {
     "data": {
      "text/plain": [
       "['A striving after wind',\n",
       " 'House of the Sleeping Beauties',\n",
       " 'A Case Of Conscience',\n",
       " 'The Scarlet Letter A Romance',\n",
       " 'The Rebel',\n",
       " 'Sea Wolf',\n",
       " 'All quiet on the western front;',\n",
       " \"Shakespeare's Macbeth; (Macmillan's English classics)\",\n",
       " 'Consilience (University Press Audiobooks)',\n",
       " 'Beethoven (Oxford paperbacks)',\n",
       " 'Counterpoint',\n",
       " 'Taiji Chin Na: The Seizing Art of Taijiquan (Chinese Internal Martial Arts)',\n",
       " 'The New Americans: How the Melting Pot Can Work Again',\n",
       " 'Small-Circle Jujitsu',\n",
       " 'SPACE, TIME AND ARCHITECTURE: THE GROWTH OF A NEW TRADITION.']"
      ]
     },
     "execution_count": 37,
     "metadata": {},
     "output_type": "execute_result"
    }
   ],
   "source": [
    "recommend('A106016KSI0YQ')"
   ]
  },
  {
   "cell_type": "code",
   "execution_count": 38,
   "id": "5d6fa0c3",
   "metadata": {
    "execution": {
     "iopub.execute_input": "2023-03-16T16:39:36.264063Z",
     "iopub.status.busy": "2023-03-16T16:39:36.263034Z",
     "iopub.status.idle": "2023-03-16T16:39:37.334443Z",
     "shell.execute_reply": "2023-03-16T16:39:37.333295Z"
    },
    "papermill": {
     "duration": 1.086455,
     "end_time": "2023-03-16T16:39:37.336742",
     "exception": false,
     "start_time": "2023-03-16T16:39:36.250287",
     "status": "completed"
    },
    "tags": []
   },
   "outputs": [
    {
     "data": {
      "text/plain": [
       "[\"The Fort at River's Bend: The Sorcerer, Book 1 (The Camulod Chronicles, Book 5)\",\n",
       " 'Snuggle Puppy!',\n",
       " \"Tomorrow's Alphabet\",\n",
       " 'The Attack',\n",
       " 'The Dragon Machine',\n",
       " 'In a Dark House (Crombie, Deborah)',\n",
       " 'Tough Boris',\n",
       " 'The Nature of Water and Air',\n",
       " 'Pajama Time!',\n",
       " 'THE DOLLMAKER',\n",
       " 'Cotillion',\n",
       " 'Winter Solstice',\n",
       " \"Myron's Magic Cow\",\n",
       " 'Long Spoon Lane (Charlotte & Thomas Pitt Novels)',\n",
       " \"All the King's Men\"]"
      ]
     },
     "execution_count": 38,
     "metadata": {},
     "output_type": "execute_result"
    }
   ],
   "source": [
    "recommend('AX54G5AL870Q8')"
   ]
  },
  {
   "cell_type": "code",
   "execution_count": null,
   "id": "d25aa039",
   "metadata": {
    "papermill": {
     "duration": 0.012388,
     "end_time": "2023-03-16T16:39:37.361731",
     "exception": false,
     "start_time": "2023-03-16T16:39:37.349343",
     "status": "completed"
    },
    "tags": []
   },
   "outputs": [],
   "source": []
  }
 ],
 "metadata": {
  "kernelspec": {
   "display_name": "Python 3 (ipykernel)",
   "language": "python",
   "name": "python3"
  },
  "language_info": {
   "codemirror_mode": {
    "name": "ipython",
    "version": 3
   },
   "file_extension": ".py",
   "mimetype": "text/x-python",
   "name": "python",
   "nbconvert_exporter": "python",
   "pygments_lexer": "ipython3",
   "version": "3.9.13"
  },
  "papermill": {
   "default_parameters": {},
   "duration": 83.456385,
   "end_time": "2023-03-16T16:39:38.997667",
   "environment_variables": {},
   "exception": null,
   "input_path": "__notebook__.ipynb",
   "output_path": "__notebook__.ipynb",
   "parameters": {},
   "start_time": "2023-03-16T16:38:15.541282",
   "version": "2.4.0"
  }
 },
 "nbformat": 4,
 "nbformat_minor": 5
}
